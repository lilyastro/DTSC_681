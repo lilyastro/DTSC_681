{
 "cells": [
  {
   "cell_type": "code",
   "execution_count": 1,
   "metadata": {},
   "outputs": [],
   "source": [
    "import pandas as pd\n",
    "import numpy as np"
   ]
  },
  {
   "cell_type": "code",
   "execution_count": 2,
   "metadata": {},
   "outputs": [
    {
     "ename": "FileNotFoundError",
     "evalue": "[Errno 2] No such file or directory: '/Users/lilyloyer/Desktop/workspace/github/DTSC_681/model/prep/Star99999_raw.csv'",
     "output_type": "error",
     "traceback": [
      "\u001b[0;31m---------------------------------------------------------------------------\u001b[0m",
      "\u001b[0;31mFileNotFoundError\u001b[0m                         Traceback (most recent call last)",
      "Cell \u001b[0;32mIn[2], line 1\u001b[0m\n\u001b[0;32m----> 1\u001b[0m df \u001b[38;5;241m=\u001b[39m \u001b[43mpd\u001b[49m\u001b[38;5;241;43m.\u001b[39;49m\u001b[43mread_csv\u001b[49m\u001b[43m(\u001b[49m\u001b[38;5;124;43m'\u001b[39;49m\u001b[38;5;124;43m/Users/lilyloyer/Desktop/workspace/github/DTSC_681/model/prep/Star99999_raw.csv\u001b[39;49m\u001b[38;5;124;43m'\u001b[39;49m\u001b[43m)\u001b[49m\n",
      "File \u001b[0;32m/Library/Frameworks/Python.framework/Versions/3.10/lib/python3.10/site-packages/pandas/io/parsers/readers.py:1026\u001b[0m, in \u001b[0;36mread_csv\u001b[0;34m(filepath_or_buffer, sep, delimiter, header, names, index_col, usecols, dtype, engine, converters, true_values, false_values, skipinitialspace, skiprows, skipfooter, nrows, na_values, keep_default_na, na_filter, verbose, skip_blank_lines, parse_dates, infer_datetime_format, keep_date_col, date_parser, date_format, dayfirst, cache_dates, iterator, chunksize, compression, thousands, decimal, lineterminator, quotechar, quoting, doublequote, escapechar, comment, encoding, encoding_errors, dialect, on_bad_lines, delim_whitespace, low_memory, memory_map, float_precision, storage_options, dtype_backend)\u001b[0m\n\u001b[1;32m   1013\u001b[0m kwds_defaults \u001b[38;5;241m=\u001b[39m _refine_defaults_read(\n\u001b[1;32m   1014\u001b[0m     dialect,\n\u001b[1;32m   1015\u001b[0m     delimiter,\n\u001b[0;32m   (...)\u001b[0m\n\u001b[1;32m   1022\u001b[0m     dtype_backend\u001b[38;5;241m=\u001b[39mdtype_backend,\n\u001b[1;32m   1023\u001b[0m )\n\u001b[1;32m   1024\u001b[0m kwds\u001b[38;5;241m.\u001b[39mupdate(kwds_defaults)\n\u001b[0;32m-> 1026\u001b[0m \u001b[38;5;28;01mreturn\u001b[39;00m \u001b[43m_read\u001b[49m\u001b[43m(\u001b[49m\u001b[43mfilepath_or_buffer\u001b[49m\u001b[43m,\u001b[49m\u001b[43m \u001b[49m\u001b[43mkwds\u001b[49m\u001b[43m)\u001b[49m\n",
      "File \u001b[0;32m/Library/Frameworks/Python.framework/Versions/3.10/lib/python3.10/site-packages/pandas/io/parsers/readers.py:620\u001b[0m, in \u001b[0;36m_read\u001b[0;34m(filepath_or_buffer, kwds)\u001b[0m\n\u001b[1;32m    617\u001b[0m _validate_names(kwds\u001b[38;5;241m.\u001b[39mget(\u001b[38;5;124m\"\u001b[39m\u001b[38;5;124mnames\u001b[39m\u001b[38;5;124m\"\u001b[39m, \u001b[38;5;28;01mNone\u001b[39;00m))\n\u001b[1;32m    619\u001b[0m \u001b[38;5;66;03m# Create the parser.\u001b[39;00m\n\u001b[0;32m--> 620\u001b[0m parser \u001b[38;5;241m=\u001b[39m \u001b[43mTextFileReader\u001b[49m\u001b[43m(\u001b[49m\u001b[43mfilepath_or_buffer\u001b[49m\u001b[43m,\u001b[49m\u001b[43m \u001b[49m\u001b[38;5;241;43m*\u001b[39;49m\u001b[38;5;241;43m*\u001b[39;49m\u001b[43mkwds\u001b[49m\u001b[43m)\u001b[49m\n\u001b[1;32m    622\u001b[0m \u001b[38;5;28;01mif\u001b[39;00m chunksize \u001b[38;5;129;01mor\u001b[39;00m iterator:\n\u001b[1;32m    623\u001b[0m     \u001b[38;5;28;01mreturn\u001b[39;00m parser\n",
      "File \u001b[0;32m/Library/Frameworks/Python.framework/Versions/3.10/lib/python3.10/site-packages/pandas/io/parsers/readers.py:1620\u001b[0m, in \u001b[0;36mTextFileReader.__init__\u001b[0;34m(self, f, engine, **kwds)\u001b[0m\n\u001b[1;32m   1617\u001b[0m     \u001b[38;5;28mself\u001b[39m\u001b[38;5;241m.\u001b[39moptions[\u001b[38;5;124m\"\u001b[39m\u001b[38;5;124mhas_index_names\u001b[39m\u001b[38;5;124m\"\u001b[39m] \u001b[38;5;241m=\u001b[39m kwds[\u001b[38;5;124m\"\u001b[39m\u001b[38;5;124mhas_index_names\u001b[39m\u001b[38;5;124m\"\u001b[39m]\n\u001b[1;32m   1619\u001b[0m \u001b[38;5;28mself\u001b[39m\u001b[38;5;241m.\u001b[39mhandles: IOHandles \u001b[38;5;241m|\u001b[39m \u001b[38;5;28;01mNone\u001b[39;00m \u001b[38;5;241m=\u001b[39m \u001b[38;5;28;01mNone\u001b[39;00m\n\u001b[0;32m-> 1620\u001b[0m \u001b[38;5;28mself\u001b[39m\u001b[38;5;241m.\u001b[39m_engine \u001b[38;5;241m=\u001b[39m \u001b[38;5;28;43mself\u001b[39;49m\u001b[38;5;241;43m.\u001b[39;49m\u001b[43m_make_engine\u001b[49m\u001b[43m(\u001b[49m\u001b[43mf\u001b[49m\u001b[43m,\u001b[49m\u001b[43m \u001b[49m\u001b[38;5;28;43mself\u001b[39;49m\u001b[38;5;241;43m.\u001b[39;49m\u001b[43mengine\u001b[49m\u001b[43m)\u001b[49m\n",
      "File \u001b[0;32m/Library/Frameworks/Python.framework/Versions/3.10/lib/python3.10/site-packages/pandas/io/parsers/readers.py:1880\u001b[0m, in \u001b[0;36mTextFileReader._make_engine\u001b[0;34m(self, f, engine)\u001b[0m\n\u001b[1;32m   1878\u001b[0m     \u001b[38;5;28;01mif\u001b[39;00m \u001b[38;5;124m\"\u001b[39m\u001b[38;5;124mb\u001b[39m\u001b[38;5;124m\"\u001b[39m \u001b[38;5;129;01mnot\u001b[39;00m \u001b[38;5;129;01min\u001b[39;00m mode:\n\u001b[1;32m   1879\u001b[0m         mode \u001b[38;5;241m+\u001b[39m\u001b[38;5;241m=\u001b[39m \u001b[38;5;124m\"\u001b[39m\u001b[38;5;124mb\u001b[39m\u001b[38;5;124m\"\u001b[39m\n\u001b[0;32m-> 1880\u001b[0m \u001b[38;5;28mself\u001b[39m\u001b[38;5;241m.\u001b[39mhandles \u001b[38;5;241m=\u001b[39m \u001b[43mget_handle\u001b[49m\u001b[43m(\u001b[49m\n\u001b[1;32m   1881\u001b[0m \u001b[43m    \u001b[49m\u001b[43mf\u001b[49m\u001b[43m,\u001b[49m\n\u001b[1;32m   1882\u001b[0m \u001b[43m    \u001b[49m\u001b[43mmode\u001b[49m\u001b[43m,\u001b[49m\n\u001b[1;32m   1883\u001b[0m \u001b[43m    \u001b[49m\u001b[43mencoding\u001b[49m\u001b[38;5;241;43m=\u001b[39;49m\u001b[38;5;28;43mself\u001b[39;49m\u001b[38;5;241;43m.\u001b[39;49m\u001b[43moptions\u001b[49m\u001b[38;5;241;43m.\u001b[39;49m\u001b[43mget\u001b[49m\u001b[43m(\u001b[49m\u001b[38;5;124;43m\"\u001b[39;49m\u001b[38;5;124;43mencoding\u001b[39;49m\u001b[38;5;124;43m\"\u001b[39;49m\u001b[43m,\u001b[49m\u001b[43m \u001b[49m\u001b[38;5;28;43;01mNone\u001b[39;49;00m\u001b[43m)\u001b[49m\u001b[43m,\u001b[49m\n\u001b[1;32m   1884\u001b[0m \u001b[43m    \u001b[49m\u001b[43mcompression\u001b[49m\u001b[38;5;241;43m=\u001b[39;49m\u001b[38;5;28;43mself\u001b[39;49m\u001b[38;5;241;43m.\u001b[39;49m\u001b[43moptions\u001b[49m\u001b[38;5;241;43m.\u001b[39;49m\u001b[43mget\u001b[49m\u001b[43m(\u001b[49m\u001b[38;5;124;43m\"\u001b[39;49m\u001b[38;5;124;43mcompression\u001b[39;49m\u001b[38;5;124;43m\"\u001b[39;49m\u001b[43m,\u001b[49m\u001b[43m \u001b[49m\u001b[38;5;28;43;01mNone\u001b[39;49;00m\u001b[43m)\u001b[49m\u001b[43m,\u001b[49m\n\u001b[1;32m   1885\u001b[0m \u001b[43m    \u001b[49m\u001b[43mmemory_map\u001b[49m\u001b[38;5;241;43m=\u001b[39;49m\u001b[38;5;28;43mself\u001b[39;49m\u001b[38;5;241;43m.\u001b[39;49m\u001b[43moptions\u001b[49m\u001b[38;5;241;43m.\u001b[39;49m\u001b[43mget\u001b[49m\u001b[43m(\u001b[49m\u001b[38;5;124;43m\"\u001b[39;49m\u001b[38;5;124;43mmemory_map\u001b[39;49m\u001b[38;5;124;43m\"\u001b[39;49m\u001b[43m,\u001b[49m\u001b[43m \u001b[49m\u001b[38;5;28;43;01mFalse\u001b[39;49;00m\u001b[43m)\u001b[49m\u001b[43m,\u001b[49m\n\u001b[1;32m   1886\u001b[0m \u001b[43m    \u001b[49m\u001b[43mis_text\u001b[49m\u001b[38;5;241;43m=\u001b[39;49m\u001b[43mis_text\u001b[49m\u001b[43m,\u001b[49m\n\u001b[1;32m   1887\u001b[0m \u001b[43m    \u001b[49m\u001b[43merrors\u001b[49m\u001b[38;5;241;43m=\u001b[39;49m\u001b[38;5;28;43mself\u001b[39;49m\u001b[38;5;241;43m.\u001b[39;49m\u001b[43moptions\u001b[49m\u001b[38;5;241;43m.\u001b[39;49m\u001b[43mget\u001b[49m\u001b[43m(\u001b[49m\u001b[38;5;124;43m\"\u001b[39;49m\u001b[38;5;124;43mencoding_errors\u001b[39;49m\u001b[38;5;124;43m\"\u001b[39;49m\u001b[43m,\u001b[49m\u001b[43m \u001b[49m\u001b[38;5;124;43m\"\u001b[39;49m\u001b[38;5;124;43mstrict\u001b[39;49m\u001b[38;5;124;43m\"\u001b[39;49m\u001b[43m)\u001b[49m\u001b[43m,\u001b[49m\n\u001b[1;32m   1888\u001b[0m \u001b[43m    \u001b[49m\u001b[43mstorage_options\u001b[49m\u001b[38;5;241;43m=\u001b[39;49m\u001b[38;5;28;43mself\u001b[39;49m\u001b[38;5;241;43m.\u001b[39;49m\u001b[43moptions\u001b[49m\u001b[38;5;241;43m.\u001b[39;49m\u001b[43mget\u001b[49m\u001b[43m(\u001b[49m\u001b[38;5;124;43m\"\u001b[39;49m\u001b[38;5;124;43mstorage_options\u001b[39;49m\u001b[38;5;124;43m\"\u001b[39;49m\u001b[43m,\u001b[49m\u001b[43m \u001b[49m\u001b[38;5;28;43;01mNone\u001b[39;49;00m\u001b[43m)\u001b[49m\u001b[43m,\u001b[49m\n\u001b[1;32m   1889\u001b[0m \u001b[43m\u001b[49m\u001b[43m)\u001b[49m\n\u001b[1;32m   1890\u001b[0m \u001b[38;5;28;01massert\u001b[39;00m \u001b[38;5;28mself\u001b[39m\u001b[38;5;241m.\u001b[39mhandles \u001b[38;5;129;01mis\u001b[39;00m \u001b[38;5;129;01mnot\u001b[39;00m \u001b[38;5;28;01mNone\u001b[39;00m\n\u001b[1;32m   1891\u001b[0m f \u001b[38;5;241m=\u001b[39m \u001b[38;5;28mself\u001b[39m\u001b[38;5;241m.\u001b[39mhandles\u001b[38;5;241m.\u001b[39mhandle\n",
      "File \u001b[0;32m/Library/Frameworks/Python.framework/Versions/3.10/lib/python3.10/site-packages/pandas/io/common.py:873\u001b[0m, in \u001b[0;36mget_handle\u001b[0;34m(path_or_buf, mode, encoding, compression, memory_map, is_text, errors, storage_options)\u001b[0m\n\u001b[1;32m    868\u001b[0m \u001b[38;5;28;01melif\u001b[39;00m \u001b[38;5;28misinstance\u001b[39m(handle, \u001b[38;5;28mstr\u001b[39m):\n\u001b[1;32m    869\u001b[0m     \u001b[38;5;66;03m# Check whether the filename is to be opened in binary mode.\u001b[39;00m\n\u001b[1;32m    870\u001b[0m     \u001b[38;5;66;03m# Binary mode does not support 'encoding' and 'newline'.\u001b[39;00m\n\u001b[1;32m    871\u001b[0m     \u001b[38;5;28;01mif\u001b[39;00m ioargs\u001b[38;5;241m.\u001b[39mencoding \u001b[38;5;129;01mand\u001b[39;00m \u001b[38;5;124m\"\u001b[39m\u001b[38;5;124mb\u001b[39m\u001b[38;5;124m\"\u001b[39m \u001b[38;5;129;01mnot\u001b[39;00m \u001b[38;5;129;01min\u001b[39;00m ioargs\u001b[38;5;241m.\u001b[39mmode:\n\u001b[1;32m    872\u001b[0m         \u001b[38;5;66;03m# Encoding\u001b[39;00m\n\u001b[0;32m--> 873\u001b[0m         handle \u001b[38;5;241m=\u001b[39m \u001b[38;5;28;43mopen\u001b[39;49m\u001b[43m(\u001b[49m\n\u001b[1;32m    874\u001b[0m \u001b[43m            \u001b[49m\u001b[43mhandle\u001b[49m\u001b[43m,\u001b[49m\n\u001b[1;32m    875\u001b[0m \u001b[43m            \u001b[49m\u001b[43mioargs\u001b[49m\u001b[38;5;241;43m.\u001b[39;49m\u001b[43mmode\u001b[49m\u001b[43m,\u001b[49m\n\u001b[1;32m    876\u001b[0m \u001b[43m            \u001b[49m\u001b[43mencoding\u001b[49m\u001b[38;5;241;43m=\u001b[39;49m\u001b[43mioargs\u001b[49m\u001b[38;5;241;43m.\u001b[39;49m\u001b[43mencoding\u001b[49m\u001b[43m,\u001b[49m\n\u001b[1;32m    877\u001b[0m \u001b[43m            \u001b[49m\u001b[43merrors\u001b[49m\u001b[38;5;241;43m=\u001b[39;49m\u001b[43merrors\u001b[49m\u001b[43m,\u001b[49m\n\u001b[1;32m    878\u001b[0m \u001b[43m            \u001b[49m\u001b[43mnewline\u001b[49m\u001b[38;5;241;43m=\u001b[39;49m\u001b[38;5;124;43m\"\u001b[39;49m\u001b[38;5;124;43m\"\u001b[39;49m\u001b[43m,\u001b[49m\n\u001b[1;32m    879\u001b[0m \u001b[43m        \u001b[49m\u001b[43m)\u001b[49m\n\u001b[1;32m    880\u001b[0m     \u001b[38;5;28;01melse\u001b[39;00m:\n\u001b[1;32m    881\u001b[0m         \u001b[38;5;66;03m# Binary mode\u001b[39;00m\n\u001b[1;32m    882\u001b[0m         handle \u001b[38;5;241m=\u001b[39m \u001b[38;5;28mopen\u001b[39m(handle, ioargs\u001b[38;5;241m.\u001b[39mmode)\n",
      "\u001b[0;31mFileNotFoundError\u001b[0m: [Errno 2] No such file or directory: '/Users/lilyloyer/Desktop/workspace/github/DTSC_681/model/prep/Star99999_raw.csv'"
     ]
    }
   ],
   "source": [
    "df = pd.read_csv('/Users/lilyloyer/Desktop/workspace/github/DTSC_681/model/prep/Star99999_raw.csv')"
   ]
  },
  {
   "cell_type": "code",
   "execution_count": null,
   "metadata": {},
   "outputs": [
    {
     "name": "stdout",
     "output_type": "stream",
     "text": [
      "<class 'pandas.core.frame.DataFrame'>\n",
      "RangeIndex: 99999 entries, 0 to 99998\n",
      "Data columns (total 6 columns):\n",
      " #   Column      Non-Null Count  Dtype \n",
      "---  ------      --------------  ----- \n",
      " 0   Unnamed: 0  99999 non-null  int64 \n",
      " 1   Vmag        99999 non-null  object\n",
      " 2   Plx         99999 non-null  object\n",
      " 3   e_Plx       99999 non-null  object\n",
      " 4   B-V         99999 non-null  object\n",
      " 5   SpType      97377 non-null  object\n",
      "dtypes: int64(1), object(5)\n",
      "memory usage: 4.6+ MB\n"
     ]
    }
   ],
   "source": [
    "df.info()\n",
    "# need to remove the nulls present in SpType - we cannot test/validate on empty star types."
   ]
  },
  {
   "cell_type": "code",
   "execution_count": null,
   "metadata": {},
   "outputs": [
    {
     "data": {
      "text/html": [
       "<div>\n",
       "<style scoped>\n",
       "    .dataframe tbody tr th:only-of-type {\n",
       "        vertical-align: middle;\n",
       "    }\n",
       "\n",
       "    .dataframe tbody tr th {\n",
       "        vertical-align: top;\n",
       "    }\n",
       "\n",
       "    .dataframe thead th {\n",
       "        text-align: right;\n",
       "    }\n",
       "</style>\n",
       "<table border=\"1\" class=\"dataframe\">\n",
       "  <thead>\n",
       "    <tr style=\"text-align: right;\">\n",
       "      <th></th>\n",
       "      <th>Unnamed: 0</th>\n",
       "    </tr>\n",
       "  </thead>\n",
       "  <tbody>\n",
       "    <tr>\n",
       "      <th>count</th>\n",
       "      <td>99999.000000</td>\n",
       "    </tr>\n",
       "    <tr>\n",
       "      <th>mean</th>\n",
       "      <td>49999.000000</td>\n",
       "    </tr>\n",
       "    <tr>\n",
       "      <th>std</th>\n",
       "      <td>28867.369122</td>\n",
       "    </tr>\n",
       "    <tr>\n",
       "      <th>min</th>\n",
       "      <td>0.000000</td>\n",
       "    </tr>\n",
       "    <tr>\n",
       "      <th>25%</th>\n",
       "      <td>24999.500000</td>\n",
       "    </tr>\n",
       "    <tr>\n",
       "      <th>50%</th>\n",
       "      <td>49999.000000</td>\n",
       "    </tr>\n",
       "    <tr>\n",
       "      <th>75%</th>\n",
       "      <td>74998.500000</td>\n",
       "    </tr>\n",
       "    <tr>\n",
       "      <th>max</th>\n",
       "      <td>99998.000000</td>\n",
       "    </tr>\n",
       "  </tbody>\n",
       "</table>\n",
       "</div>"
      ],
      "text/plain": [
       "         Unnamed: 0\n",
       "count  99999.000000\n",
       "mean   49999.000000\n",
       "std    28867.369122\n",
       "min        0.000000\n",
       "25%    24999.500000\n",
       "50%    49999.000000\n",
       "75%    74998.500000\n",
       "max    99998.000000"
      ]
     },
     "execution_count": 175,
     "metadata": {},
     "output_type": "execute_result"
    }
   ],
   "source": [
    "df.describe()"
   ]
  },
  {
   "cell_type": "code",
   "execution_count": null,
   "metadata": {},
   "outputs": [
    {
     "name": "stdout",
     "output_type": "stream",
     "text": [
      "\n",
      "Total number of nulls in the dataset: 2622\n",
      "Total Null percentage:  2.6220262202622027\n"
     ]
    }
   ],
   "source": [
    "#count total nulls\n",
    "total_nulls = df.isnull().sum().sum()\n",
    "print(\"\\nTotal number of nulls in the dataset:\", total_nulls) \n",
    "\n",
    "# good to drop\n",
    "print('Total Null percentage: ', 2622/len(df)*100)"
   ]
  },
  {
   "cell_type": "code",
   "execution_count": null,
   "metadata": {},
   "outputs": [],
   "source": [
    "df.dropna(inplace=True)\n",
    "\n",
    "#reset index\n",
    "df.reset_index(inplace=True, drop=True)"
   ]
  },
  {
   "cell_type": "code",
   "execution_count": null,
   "metadata": {},
   "outputs": [
    {
     "name": "stdout",
     "output_type": "stream",
     "text": [
      "       Unnamed: 0   Vmag      Plx   e_Plx     B-V    SpType\n",
      "0               0   9.10     3.54    1.39   0.482        F5\n",
      "1               1   9.27    21.90    3.10   0.999       K3V\n",
      "2               2   6.61     2.81    0.63  -0.019        B9\n",
      "3               3   8.06     7.75    0.97   0.370       F0V\n",
      "4               4   8.55     2.87    1.11   0.902     G8III\n",
      "...           ...    ...      ...     ...     ...       ...\n",
      "97372       99994   8.72     3.07    0.87   0.097        B3\n",
      "97373       99995   9.25                    0.131       A1V\n",
      "97374       99996   8.08     1.07    0.68   1.094        G5\n",
      "97375       99997   6.98     2.97    0.76  -0.143     B1.5V\n",
      "97376       99998   8.51    -1.18    1.34   1.568  K5/M0III\n",
      "\n",
      "[97377 rows x 6 columns]\n"
     ]
    }
   ],
   "source": [
    "print(df)"
   ]
  },
  {
   "cell_type": "code",
   "execution_count": null,
   "metadata": {},
   "outputs": [],
   "source": [
    "df.drop_duplicates(inplace=True)"
   ]
  },
  {
   "cell_type": "code",
   "execution_count": null,
   "metadata": {},
   "outputs": [
    {
     "name": "stdout",
     "output_type": "stream",
     "text": [
      "       Unnamed: 0   Vmag      Plx   e_Plx     B-V    SpType\n",
      "0               0   9.10     3.54    1.39   0.482        F5\n",
      "1               1   9.27    21.90    3.10   0.999       K3V\n",
      "2               2   6.61     2.81    0.63  -0.019        B9\n",
      "3               3   8.06     7.75    0.97   0.370       F0V\n",
      "4               4   8.55     2.87    1.11   0.902     G8III\n",
      "...           ...    ...      ...     ...     ...       ...\n",
      "97372       99994   8.72     3.07    0.87   0.097        B3\n",
      "97373       99995   9.25                    0.131       A1V\n",
      "97374       99996   8.08     1.07    0.68   1.094        G5\n",
      "97375       99997   6.98     2.97    0.76  -0.143     B1.5V\n",
      "97376       99998   8.51    -1.18    1.34   1.568  K5/M0III\n",
      "\n",
      "[97377 rows x 6 columns]\n"
     ]
    }
   ],
   "source": [
    "print(df)\n",
    "#no duplicates present"
   ]
  },
  {
   "cell_type": "code",
   "execution_count": null,
   "metadata": {},
   "outputs": [],
   "source": [
    "#change the datatypes to float.\n",
    "for col in df.columns:\n",
    "    if col != 'SpType':\n",
    "        df[col] = pd.to_numeric(df[col], downcast=\"float\", errors='coerce')"
   ]
  },
  {
   "cell_type": "code",
   "execution_count": null,
   "metadata": {},
   "outputs": [
    {
     "name": "stdout",
     "output_type": "stream",
     "text": [
      "Before dropping outliers... count    97268.000000\n",
      "mean         1.277213\n",
      "std          1.210870\n",
      "min          0.380000\n",
      "25%          0.870000\n",
      "50%          1.090000\n",
      "75%          1.370000\n",
      "max         69.070000\n",
      "Name: e_Plx, dtype: float64\n",
      "After dropping outliers... count    96256.000000\n",
      "mean         1.192657\n",
      "std          0.528293\n",
      "min          0.380000\n",
      "25%          0.870000\n",
      "50%          1.080000\n",
      "75%          1.350000\n",
      "max          4.720000\n",
      "Name: e_Plx, dtype: float64\n"
     ]
    }
   ],
   "source": [
    "#look at e_plx\n",
    "print('Before dropping outliers...', df['e_Plx'].describe())\n",
    "\n",
    "# need to drop any parallex margin of errors that are statistically significant. This will be 3 STD's away from median.\n",
    "# we chose median because astronomoical values can vary so greatly - median tends to be the better\n",
    "# identifier of for the standard of the dataset without any outliers skewing the data.\n",
    "mean = df['e_Plx'].mean()\n",
    "std = df['e_Plx'].std()\n",
    "\n",
    "threshold = mean + (3 * std)\n",
    "\n",
    "df = df[df['e_Plx'] < threshold]\n",
    "\n",
    "print('After dropping outliers...', df['e_Plx'].describe())"
   ]
  },
  {
   "cell_type": "code",
   "execution_count": null,
   "metadata": {},
   "outputs": [
    {
     "name": "stderr",
     "output_type": "stream",
     "text": [
      "/Library/Frameworks/Python.framework/Versions/3.10/lib/python3.10/site-packages/pandas/core/arraylike.py:399: RuntimeWarning: divide by zero encountered in log10\n",
      "  result = getattr(ufunc, method)(*inputs, **kwargs)\n"
     ]
    }
   ],
   "source": [
    "# add abs mag\n",
    "df[\"Abs_Mag\"] = df[\"Vmag\"] + 5 * (np.log10(abs(df[\"Plx\"]))+1)"
   ]
  },
  {
   "cell_type": "code",
   "execution_count": null,
   "metadata": {},
   "outputs": [],
   "source": [
    "## divide by zero error - filter out any parallax that = 0\n",
    "df = df[df['Plx'] != 0]"
   ]
  },
  {
   "cell_type": "code",
   "execution_count": null,
   "metadata": {},
   "outputs": [],
   "source": [
    "df[\"Abs_Mag\"] = df[\"Vmag\"] + 5 * (np.log10(abs(df[\"Plx\"]))+1)"
   ]
  },
  {
   "cell_type": "code",
   "execution_count": null,
   "metadata": {},
   "outputs": [],
   "source": [
    "\n",
    "# Create the classification column\n",
    "def categorize_star_type(sp_type):\n",
    "    if \"V\" in sp_type:\n",
    "        if \"VII\" in sp_type:\n",
    "            return 0  # Dwarfs are VII\n",
    "        else:\n",
    "            return 1  # Giants are V, IV, and VI\n",
    "    elif \"I\" in sp_type:\n",
    "        return 0  # Dwarfs are I, II, III\n",
    "    else:\n",
    "        return 3  # Other Class\n",
    "\n",
    "# Apply the function to the 'SpType' column to create the 'Target' column\n",
    "df['Target'] = df['SpType'].apply(categorize_star_type)"
   ]
  },
  {
   "cell_type": "code",
   "execution_count": null,
   "metadata": {},
   "outputs": [
    {
     "name": "stdout",
     "output_type": "stream",
     "text": [
      "       Unnamed: 0  Vmag    Plx  e_Plx    B-V    SpType    Abs_Mag  Target\n",
      "0             0.0  9.10   3.54   1.39  0.482        F5  16.845016       3\n",
      "1             1.0  9.27  21.90   3.10  0.999       K3V  20.972221       1\n",
      "2             2.0  6.61   2.81   0.63 -0.019        B9  13.853531       3\n",
      "3             3.0  8.06   7.75   0.97  0.370       F0V  17.506508       1\n",
      "4             4.0  8.55   2.87   1.11  0.902     G8III  15.839410       0\n",
      "...           ...   ...    ...    ...    ...       ...        ...     ...\n",
      "97371     99993.0  7.92   3.93   1.24  0.133     Am...  15.891963       3\n",
      "97372     99994.0  8.72   3.07   0.87  0.097        B3  16.155693       3\n",
      "97374     99996.0  8.08   1.07   0.68  1.094        G5  13.226919       3\n",
      "97375     99997.0  6.98   2.97   0.76 -0.143     B1.5V  14.343782       1\n",
      "97376     99998.0  8.51  -1.18   1.34  1.568  K5/M0III  13.869411       0\n",
      "\n",
      "[96217 rows x 8 columns]\n"
     ]
    }
   ],
   "source": [
    "print(df)"
   ]
  },
  {
   "cell_type": "code",
   "execution_count": null,
   "metadata": {},
   "outputs": [],
   "source": [
    "#drop unnamed column\n",
    "df = df.drop(columns=['Unnamed: 0'])\n"
   ]
  },
  {
   "cell_type": "code",
   "execution_count": null,
   "metadata": {},
   "outputs": [
    {
     "name": "stdout",
     "output_type": "stream",
     "text": [
      "       Vmag    Plx  e_Plx    B-V    SpType    Abs_Mag  Target\n",
      "0      9.10   3.54   1.39  0.482        F5  16.845016       3\n",
      "1      9.27  21.90   3.10  0.999       K3V  20.972221       1\n",
      "2      6.61   2.81   0.63 -0.019        B9  13.853531       3\n",
      "3      8.06   7.75   0.97  0.370       F0V  17.506508       1\n",
      "4      8.55   2.87   1.11  0.902     G8III  15.839410       0\n",
      "...     ...    ...    ...    ...       ...        ...     ...\n",
      "97371  7.92   3.93   1.24  0.133     Am...  15.891963       3\n",
      "97372  8.72   3.07   0.87  0.097        B3  16.155693       3\n",
      "97374  8.08   1.07   0.68  1.094        G5  13.226919       3\n",
      "97375  6.98   2.97   0.76 -0.143     B1.5V  14.343782       1\n",
      "97376  8.51  -1.18   1.34  1.568  K5/M0III  13.869411       0\n",
      "\n",
      "[96217 rows x 7 columns]\n"
     ]
    }
   ],
   "source": [
    "print(df)"
   ]
  },
  {
   "cell_type": "code",
   "execution_count": null,
   "metadata": {},
   "outputs": [
    {
     "name": "stdout",
     "output_type": "stream",
     "text": [
      "Target\n",
      "3    48871\n",
      "1    27575\n",
      "0    19771\n",
      "Name: count, dtype: int64\n",
      "       Vmag    Plx  e_Plx    B-V SpType    Abs_Mag  Target\n",
      "4717   8.07  10.76   2.31  0.485     F5  18.229061       3\n",
      "19504  9.09   5.24   1.38  0.458     F2  17.686657       3\n",
      "414    8.06   4.20   1.09  0.007     A0  16.176247       3\n",
      "12513  7.09   3.82   0.96  1.175     K0  15.000318       3\n",
      "46182  8.75   5.76   0.86  0.990  K1III  17.552113       0\n",
      "...     ...    ...    ...    ...    ...        ...     ...\n",
      "21545  7.58   2.44   0.59 -0.044    B9V  14.516950       1\n",
      "7653   9.41   1.43   1.33  0.174     A2  15.186680       3\n",
      "15052  8.90   4.70   1.18  0.391     F0  17.260490       3\n",
      "49105  7.92   2.53   0.68 -0.026  B9III  14.935602       0\n",
      "4946   7.21   6.44   0.98  1.061     K0  16.254429       3\n",
      "\n",
      "[59313 rows x 7 columns]\n",
      "Target\n",
      "3    19771\n",
      "0    19771\n",
      "1    19771\n",
      "Name: count, dtype: int64\n"
     ]
    }
   ],
   "source": [
    "from sklearn.utils import resample\n",
    "from sklearn.utils import shuffle\n",
    "\n",
    "#try to classify on the 3 classes: 0 Dwarf, 1 Giant, 3 other\n",
    "value_counts = df['Target'].value_counts()\n",
    "print(value_counts)\n",
    "\n",
    "giants = df[df['Target'] == 1]\n",
    "others = df[df['Target'] == 3]\n",
    "dwarfs = df[df['Target']== 0]\n",
    "\n",
    "#significantly more other stars, then more Giants, not as many dwarfs. We need to rebalance dataset.\n",
    "resamp_giants = resample(giants, \n",
    "                                 replace=False,    \n",
    "                                 n_samples=dwarfs.shape[0],     \n",
    "                                 random_state=1)\n",
    "resamp_others = resample(others, \n",
    "                                 replace=False,    \n",
    "                                 n_samples=dwarfs.shape[0],     \n",
    "                                 random_state=1)\n",
    " \n",
    "df = pd.concat([resamp_others, resamp_giants, dwarfs])\n",
    "df.reset_index(inplace=True, drop=True)\n",
    "df = shuffle(df)\n",
    "print(df)\n",
    "print(df['Target'].value_counts())"
   ]
  },
  {
   "cell_type": "code",
   "execution_count": null,
   "metadata": {},
   "outputs": [],
   "source": [
    "df.dropna(inplace=True)\n",
    "\n",
    "#reset index\n",
    "df.reset_index(inplace=True, drop=True)"
   ]
  },
  {
   "cell_type": "code",
   "execution_count": null,
   "metadata": {},
   "outputs": [],
   "source": [
    "#attempt to classify the 3 classes\n",
    "\n",
    "# Split data into Feature and Label data - independent and dependent variables.\n",
    "X = df[['Vmag', 'Plx', 'B-V', 'e_Plx', 'B-V', 'Abs_Mag']]\n",
    "X = X.values\n",
    "Y = df[['Target']]\n",
    "Y = Y.values\n",
    "Y = Y.flatten().astype('int')"
   ]
  },
  {
   "cell_type": "code",
   "execution_count": null,
   "metadata": {},
   "outputs": [
    {
     "name": "stdout",
     "output_type": "stream",
     "text": [
      "[[ 8.0699997e+00  1.0760000e+01  4.8500001e-01  2.3099999e+00\n",
      "   7.3100000e+02  1.8229061e+01]\n",
      " [ 9.0900002e+00  5.2399998e+00  4.5800000e-01  1.3800000e+00\n",
      "   7.0400000e+02  1.7686657e+01]\n",
      " [ 8.0600004e+00  4.1999998e+00  7.0000002e-03  1.0900000e+00\n",
      "   2.5300000e+02  1.6176247e+01]\n",
      " ...\n",
      " [ 8.8999996e+00  4.6999998e+00  3.9100000e-01  1.1799999e+00\n",
      "   6.3700000e+02  1.7260490e+01]\n",
      " [ 7.9200001e+00  2.5300000e+00 -2.6000001e-02  6.8000001e-01\n",
      "   2.2000000e+02  1.4935602e+01]\n",
      " [ 7.2100000e+00  6.4400001e+00  1.0610000e+00  9.8000002e-01\n",
      "   1.3070000e+03  1.6254429e+01]]\n"
     ]
    }
   ],
   "source": [
    "# use label encoding since we are turning a categorical variable into numerical.\n",
    "from sklearn.preprocessing import LabelEncoder\n",
    "encoded_x = LabelEncoder()\n",
    "X[:,4]=encoded_x.fit_transform(X[:,4])\n",
    "print(X)"
   ]
  },
  {
   "cell_type": "code",
   "execution_count": null,
   "metadata": {},
   "outputs": [],
   "source": [
    "from sklearn.ensemble import RandomForestClassifier\n",
    "from sklearn.neighbors import KNeighborsClassifier\n",
    "from sklearn.preprocessing import StandardScaler\n",
    "from sklearn.tree import DecisionTreeClassifier\n",
    "from sklearn.model_selection import train_test_split\n",
    "\n",
    "#Split into test and training set.\n",
    "X_train, X_test, y_train, y_test = train_test_split(X, Y, test_size = 0.25, random_state = 0)\n",
    "#standard scale for KNeighbors - this algorithm is sensitive to scaling. \n",
    "scaler = StandardScaler()\n",
    "scaler.fit(X_train)\n",
    "X_train_scaled = scaler.transform(X_train)\n",
    "X_test_scaled = scaler.transform(X_test)"
   ]
  },
  {
   "cell_type": "code",
   "execution_count": null,
   "metadata": {},
   "outputs": [
    {
     "name": "stdout",
     "output_type": "stream",
     "text": [
      "0.6182064297800338\n",
      "[0.74597775 0.6752     0.31421006]\n",
      "0.6182064297800338\n",
      "0.6182064297800338\n",
      "0.605482233502538\n",
      "[0.74340176 0.6705239  0.21923269]\n",
      "0.605482233502538\n",
      "0.605482233502538\n",
      "0.587072758037225\n",
      "[0.70331931 0.61378033 0.41051897]\n",
      "0.587072758037225\n",
      "0.587072758037225\n"
     ]
    }
   ],
   "source": [
    "#try random forest - get accuracy\n",
    "from sklearn.metrics import accuracy_score, precision_score, f1_score, recall_score\n",
    "\n",
    "\n",
    "random_forest = RandomForestClassifier(max_depth = 5, n_estimators=100, random_state=50)\n",
    "random_forest.fit(X_train, y_train)\n",
    "preds = random_forest.predict(X_test)\n",
    "r_acc = accuracy_score(y_test, preds)\n",
    "r_f1 = f1_score(y_test, preds, average=None) # for non binary classification\n",
    "r_prec = precision_score(y_test, preds, average='micro') # Calculate metrics globally \n",
    "r_rec = recall_score(y_test, preds, average='micro') # Calculate metrics globally\n",
    "print(r_acc)\n",
    "print(r_f1)  \n",
    "print(r_prec) \n",
    "print(r_rec) \n",
    "# \n",
    "\n",
    "decision_tree = DecisionTreeClassifier(max_depth = 5, min_samples_split=2, splitter='best')\n",
    "decision_tree.fit(X_train, y_train)\n",
    "preds = decision_tree.predict(X_test)\n",
    "d_acc = accuracy_score(y_test, preds)\n",
    "d_f1 = f1_score(y_test, preds, average=None) # for non binary classification\n",
    "d_prec = precision_score(y_test, preds, average='micro') # Calculate metrics globally \n",
    "d_rec = recall_score(y_test, preds, average='micro') # Calculate metrics globally \n",
    "print(d_acc)\n",
    "print(d_f1)  \n",
    "print(d_prec) \n",
    "print(d_rec) \n",
    "\n",
    "#DropNan values from X\n",
    "k_neighbors = KNeighborsClassifier(n_neighbors=5, metric='euclidean', weights='uniform')\n",
    "k_neighbors.fit(X_train_scaled, y_train)\n",
    "preds = k_neighbors.predict(X_test_scaled)\n",
    "k_acc = accuracy_score(y_test, preds)\n",
    "k_f1 = f1_score(y_test, preds, average=None) # for non binary classification\n",
    "k_prec = precision_score(y_test, preds, average='micro') # Calculate metrics globally \n",
    "k_rec = recall_score(y_test, preds, average='micro') # Calculate metrics globally \n",
    "print(k_acc)\n",
    "print(k_f1)  \n",
    "print(k_prec) \n",
    "print(k_rec) "
   ]
  },
  {
   "cell_type": "code",
   "execution_count": null,
   "metadata": {},
   "outputs": [],
   "source": [
    "#plot\n",
    "import matplotlib.pyplot as plt\n",
    "import numpy as np\n",
    "\n",
    "# Define the models and their metrics\n",
    "models = ['Decision Tree', 'Random Forest', 'K Nearest Neighbors']\n",
    "metrics = ['Accuracy', 'Recall', 'Precision', 'F1 Score']\n",
    "\n",
    "# Example metric values for each model\n",
    "model_1_scores = [d_acc, d_rec, d_prec, d_f1]\n",
    "model_2_scores = [r_acc, r_rec, r_prec, r_f1]\n",
    "model_3_scores = [k_acc, k_rec, k_prec, k_f1]\n",
    "\n",
    "# Create a bar plot\n",
    "x = np.arange(len(metrics))  # the label locations\n",
    "width = 0.25  # the width of the bars\n",
    "\n",
    "fig, ax = plt.subplots()\n",
    "bars1 = ax.bar(x - width, model_1_scores, width, label='Decision Tree')\n",
    "bars2 = ax.bar(x, model_2_scores, width, label='Random Forest')\n",
    "bars3 = ax.bar(x + width, model_3_scores, width, label='K Nearest Neighbors')\n",
    "\n",
    "# Add some text for labels, title and custom x-axis tick labels, etc.\n",
    "ax.set_xlabel('Metrics')\n",
    "ax.set_ylabel('Scores')\n",
    "ax.set_title('Model Performance Comparison')\n",
    "ax.set_xticks(x)\n",
    "ax.set_xticklabels(metrics)\n",
    "ax.legend()\n",
    "\n",
    "fig.tight_layout()\n",
    "\n",
    "plt.show()\n"
   ]
  },
  {
   "cell_type": "code",
   "execution_count": null,
   "metadata": {},
   "outputs": [
    {
     "name": "stdout",
     "output_type": "stream",
     "text": [
      "Fitting 5 folds for each of 252 candidates, totalling 1260 fits\n",
      "Best parameters found for Decision Tree: {'max_depth': 9, 'min_samples_split': 18, 'splitter': 'best'}\n",
      "Fitting 5 folds for each of 112 candidates, totalling 560 fits\n",
      "Best parameters found for RandomForest Tree: {'max_depth': 10, 'n_estimators': 51, 'random_state': 75}\n",
      "Fitting 5 folds for each of 56 candidates, totalling 280 fits\n",
      "Best parameters found for KNeighbors: {'metric': 'manhattan', 'n_neighbors': 14, 'weights': 'uniform'}\n"
     ]
    }
   ],
   "source": [
    "#Accuracy and performance metrics are not the best. this is likely due to trying to categorize\n",
    "#stars also under an 'other' category as well.\n",
    "\n",
    "#Try a grid search, retrain to see if the accuracy improves.\n",
    "#DecisionTree\n",
    "from sklearn.model_selection import GridSearchCV\n",
    "\n",
    "#perform a grid search for each algorithm to find the optimal hyper paramters\n",
    "grid_search = GridSearchCV(estimator=DecisionTreeClassifier(), param_grid={\n",
    "    'max_depth': list(range(1, 15, 1)),\n",
    "    'min_samples_split': list(range(2, 20, 2)),\n",
    "    'splitter': [\"best\", \"random\"]\n",
    "}, cv=5, verbose=1, error_score='raise')\n",
    "        \n",
    "        # Fit GridSearchCV with the training data.\n",
    "grid_search.fit(X_train, y_train)\n",
    "        \n",
    "        # Print the best parameters and best score found by GridSearchCV.\n",
    "print(f\"Best parameters found for Decision Tree: {grid_search.best_params_}\")\n",
    "#RandomForest\n",
    "grid_search = GridSearchCV(estimator=RandomForestClassifier(), param_grid={\n",
    "    'n_estimators': list(range(1, 100, 50)),\n",
    "    'max_depth': list(range(1, 15, 1)),\n",
    "    'random_state': list(range(0, 100, 25))\n",
    "}, cv=5, verbose=1, error_score='raise')\n",
    "        \n",
    "# Fit GridSearchCV with the training data.\n",
    "grid_search.fit(X_train, y_train)\n",
    "        \n",
    "        # Print the best parameters and best score found by GridSearchCV.\n",
    "print(f\"Best parameters found for RandomForest Tree: {grid_search.best_params_}\")\n",
    "#KNearest\n",
    "grid_search = GridSearchCV(estimator=KNeighborsClassifier(), param_grid={\n",
    "    'n_neighbors': list(range(1, 15, 1)),\n",
    "    'weights': ['uniform', 'distance'],\n",
    "    'metric': ['euclidean', 'manhattan']\n",
    "}, cv=5, verbose=1, error_score='raise')\n",
    "        \n",
    "        # Fit GridSearchCV with the training data.\n",
    "grid_search.fit(X_train, y_train)\n",
    "        \n",
    "        # Print the best parameters and best score found by GridSearchCV.\n",
    "print(f\"Best parameters found for KNeighbors: {grid_search.best_params_}\")\n"
   ]
  },
  {
   "cell_type": "code",
   "execution_count": null,
   "metadata": {},
   "outputs": [
    {
     "name": "stdout",
     "output_type": "stream",
     "text": [
      "0.629238578680203\n",
      "[0.75264889 0.66763241 0.39433638]\n",
      "0.629238578680203\n",
      "0.629238578680203\n",
      "0.6136717428087987\n",
      "[0.74215901 0.64989479 0.3777284 ]\n",
      "0.6136717428087987\n",
      "0.6136717428087987\n",
      "0.6134686971235195\n",
      "[0.73696813 0.64950569 0.39673777]\n",
      "0.6134686971235195\n",
      "0.6134686971235195\n"
     ]
    }
   ],
   "source": [
    "# Try to refit with the optimal hyperparameters\n",
    "#try random forest - get accuracy\n",
    "from sklearn.metrics import accuracy_score, precision_score, f1_score, recall_score\n",
    "\n",
    "\n",
    "random_forest = RandomForestClassifier(max_depth = 10, n_estimators=51, random_state=75)\n",
    "random_forest.fit(X_train, y_train)\n",
    "preds = random_forest.predict(X_test)\n",
    "r_acc = accuracy_score(y_test, preds)\n",
    "r_f1 = f1_score(y_test, preds, average=None) # for non binary classification\n",
    "r_prec = precision_score(y_test, preds, average='micro') # Calculate metrics globally \n",
    "r_rec = recall_score(y_test, preds, average='micro') # Calculate metrics globally\n",
    "print(r_acc)\n",
    "print(r_f1)  \n",
    "print(r_prec) \n",
    "print(r_rec) \n",
    "\n",
    "decision_tree = DecisionTreeClassifier(max_depth = 9, min_samples_split=18, splitter='best')\n",
    "decision_tree.fit(X_train, y_train)\n",
    "preds = decision_tree.predict(X_test)\n",
    "d_acc = accuracy_score(y_test, preds)\n",
    "d_f1 = f1_score(y_test, preds, average=None) # for non binary classification\n",
    "d_prec = precision_score(y_test, preds, average='micro') # Calculate metrics globally \n",
    "d_rec = recall_score(y_test, preds, average='micro') # Calculate metrics globally \n",
    "print(d_acc)\n",
    "print(d_f1)  \n",
    "print(d_prec) \n",
    "print(d_rec) \n",
    "\n",
    "#DropNan values from X\n",
    "k_neighbors = KNeighborsClassifier(n_neighbors=14, metric='manhattan', weights='uniform')\n",
    "k_neighbors.fit(X_train_scaled, y_train)\n",
    "preds = k_neighbors.predict(X_test_scaled)\n",
    "k_acc = accuracy_score(y_test, preds)\n",
    "k_f1 = f1_score(y_test, preds, average=None) # for non binary classification\n",
    "k_prec = precision_score(y_test, preds, average='micro') # Calculate metrics globally \n",
    "k_rec = recall_score(y_test, preds, average='micro') # Calculate metrics globally \n",
    "print(k_acc)\n",
    "print(k_f1)  \n",
    "print(k_prec) \n",
    "print(k_rec) "
   ]
  },
  {
   "cell_type": "code",
   "execution_count": null,
   "metadata": {},
   "outputs": [],
   "source": [
    "#plot metrics\n",
    "#plot\n",
    "import matplotlib.pyplot as plt\n",
    "import numpy as np\n",
    "\n",
    "# Define the models and their metrics\n",
    "models = ['Decision Tree', 'Random Forest', 'K Nearest Neighbors']\n",
    "metrics = ['Accuracy', 'Recall', 'Precision', 'F1 Score']\n",
    "\n",
    "# Example metric values for each model\n",
    "model_1_scores = [d_acc, d_rec, d_prec, d_f1]\n",
    "model_2_scores = [r_acc, r_rec, r_prec, r_f1]\n",
    "model_3_scores = [k_acc, k_rec, k_prec, k_f1]\n",
    "\n",
    "# Create a bar plot\n",
    "x = np.arange(len(metrics))  # the label locations\n",
    "width = 0.25  # the width of the bars\n",
    "\n",
    "fig, ax = plt.subplots()\n",
    "bars1 = ax.bar(x - width, model_1_scores, width, label='Decision Tree')\n",
    "bars2 = ax.bar(x, model_2_scores, width, label='Random Forest')\n",
    "bars3 = ax.bar(x + width, model_3_scores, width, label='K Nearest Neighbors')\n",
    "\n",
    "# Add some text for labels, title and custom x-axis tick labels, etc.\n",
    "ax.set_xlabel('Metrics')\n",
    "ax.set_ylabel('Scores')\n",
    "ax.set_title('Model Performance Comparison')\n",
    "ax.set_xticks(x)\n",
    "ax.set_xticklabels(metrics)\n",
    "ax.legend()\n",
    "\n",
    "fig.tight_layout()\n",
    "\n",
    "plt.show()\n"
   ]
  },
  {
   "cell_type": "code",
   "execution_count": null,
   "metadata": {},
   "outputs": [],
   "source": [
    "#still below goal of 80% accuracy... "
   ]
  },
  {
   "cell_type": "markdown",
   "metadata": {},
   "source": []
  },
  {
   "cell_type": "code",
   "execution_count": null,
   "metadata": {},
   "outputs": [],
   "source": [
    "# Try a 2 star classification - Dwarf and Giant. the 3 classes may be too much for these\n",
    "# classification models. there is no distinct pattern for the 3rd class of 'other'. Lets\n",
    "# remove and see if we improve accuracy\n",
    "df = df[(df['Target'] == 1) | (df['Target'] == 0)]\n"
   ]
  },
  {
   "cell_type": "code",
   "execution_count": null,
   "metadata": {},
   "outputs": [],
   "source": [
    "X = df[['Vmag', 'Plx', 'B-V', 'e_Plx', 'B-V', 'Abs_Mag']]\n",
    "X = X.values\n",
    "Y = df[['Target']]\n",
    "Y = Y.values\n",
    "Y = Y.flatten().astype('int')"
   ]
  },
  {
   "cell_type": "code",
   "execution_count": null,
   "metadata": {},
   "outputs": [],
   "source": [
    "#Split into test and training set.\n",
    "X_train, X_test, y_train, y_test = train_test_split(X, Y, test_size = 0.25, random_state = 0)\n",
    "#standard scale for KNeighbors - this algorithm is sensitive to scaling. \n",
    "scaler = StandardScaler()\n",
    "scaler.fit(X_train)\n",
    "X_train_scaled = scaler.transform(X_train)\n",
    "X_test_scaled = scaler.transform(X_test)"
   ]
  },
  {
   "cell_type": "code",
   "execution_count": null,
   "metadata": {},
   "outputs": [
    {
     "name": "stdout",
     "output_type": "stream",
     "text": [
      "0.8828417958852741\n",
      "[0.87723025 0.88796278]\n",
      "0.8828417958852741\n",
      "0.8828417958852741\n",
      "0.8802067497719671\n",
      "[0.87409459 0.88575295]\n",
      "0.8802067497719671\n",
      "0.8802067497719671\n",
      "0.8697679132461741\n",
      "[0.86690834 0.87250719]\n",
      "0.8697679132461741\n",
      "0.8697679132461741\n"
     ]
    }
   ],
   "source": [
    "#try random forest - get accuracy\n",
    "from sklearn.metrics import accuracy_score, precision_score, f1_score, recall_score\n",
    "from sklearn.metrics import confusion_matrix, ConfusionMatrixDisplay\n",
    "\n",
    "\n",
    "random_forest = RandomForestClassifier(max_depth = 5, n_estimators=100, random_state=50)\n",
    "random_forest.fit(X_train, y_train)\n",
    "preds = random_forest.predict(X_test)\n",
    "r_acc = accuracy_score(y_test, preds)\n",
    "r_f1 = f1_score(y_test, preds, average='binary') # Calculate metrics globally \n",
    "r_prec = precision_score(y_test, preds, average='binary') # Calculate metrics globally \n",
    "r_rec = recall_score(y_test, preds, average='binary') # Calculate metrics globally\n",
    "print(r_acc)\n",
    "print(r_f1)  \n",
    "print(r_prec) \n",
    "print(r_rec) \n",
    "\n",
    "cm = confusion_matrix(y_test, preds)\n",
    "# Plot the confusion matrix\n",
    "disp = ConfusionMatrixDisplay(confusion_matrix=cm)\n",
    "disp.plot(cmap=plt.cm.Blues)\n",
    "\n",
    "# Customize the plot\n",
    "plt.title('Confusion Matrix')\n",
    "plt.show()\n",
    "\n",
    "decision_tree = DecisionTreeClassifier(max_depth = 5, min_samples_split=2, splitter='best')\n",
    "decision_tree.fit(X_train, y_train)\n",
    "preds = decision_tree.predict(X_test)\n",
    "d_f1 = f1_score(y_test, preds, average='binary') # binary\n",
    "d_prec = precision_score(y_test, preds, average='binary') # binary\n",
    "d_rec = recall_score(y_test, preds, average='binary') # binary\n",
    "print(d_acc)\n",
    "print(d_f1)  \n",
    "print(d_prec) \n",
    "print(d_rec) \n",
    "\n",
    "cm = confusion_matrix(y_test, preds)\n",
    "# Plot the confusion matrix\n",
    "disp = ConfusionMatrixDisplay(confusion_matrix=cm)\n",
    "disp.plot(cmap=plt.cm.Blues)\n",
    "\n",
    "#DropNan values from X\n",
    "k_neighbors = KNeighborsClassifier(n_neighbors=5, metric='euclidean', weights='uniform')\n",
    "k_neighbors.fit(X_train_scaled, y_train)\n",
    "preds = k_neighbors.predict(X_test_scaled)\n",
    "k_acc = accuracy_score(y_test, preds)\n",
    "k_f1 = f1_score(y_test, preds, average='binary') # binary\n",
    "k_prec = precision_score(y_test, preds, average='binary') # binary\n",
    "k_rec = recall_score(y_test, preds, average='binary') # binary\n",
    "print(k_acc)\n",
    "print(k_f1)  \n",
    "print(k_prec) \n",
    "print(k_rec) \n",
    "\n",
    "cm = confusion_matrix(y_test, preds)\n",
    "# Plot the confusion matrix\n",
    "disp = ConfusionMatrixDisplay(confusion_matrix=cm)\n",
    "disp.plot(cmap=plt.cm.Blues)"
   ]
  },
  {
   "cell_type": "code",
   "execution_count": null,
   "metadata": {},
   "outputs": [
    {
     "data": {
      "image/png": "[encoded data removed]",
      "text/plain": [
       "<Figure size 640x480 with 1 Axes>"
      ]
     },
     "metadata": {},
     "output_type": "display_data"
    }
   ],
   "source": [
    "#plot\n",
    "import matplotlib.pyplot as plt\n",
    "import numpy as np\n",
    "\n",
    "# Define the models and their metrics\n",
    "models = ['Decision Tree', 'Random Forest', 'K Nearest Neighbors']\n",
    "metrics = ['Accuracy', 'Recall', 'Precision', 'F1 Score']\n",
    "\n",
    "# Example metric values for each model\n",
    "model_1_scores = [d_acc, d_rec, d_prec, d_f1]\n",
    "model_2_scores = [r_acc, r_rec, r_prec, r_f1]\n",
    "model_3_scores = [k_acc, k_rec, k_prec, k_f1]\n",
    "\n",
    "# Create a bar plot\n",
    "x = np.arange(len(metrics))  # the label locations\n",
    "width = 0.25  # the width of the bars\n",
    "\n",
    "fig, ax = plt.subplots()\n",
    "bars1 = ax.bar(x - width, model_1_scores, width, label='Decision Tree')\n",
    "bars2 = ax.bar(x, model_2_scores, width, label='Random Forest')\n",
    "bars3 = ax.bar(x + width, model_3_scores, width, label='K Nearest Neighbors')\n",
    "\n",
    "# Add some text for labels, title and custom x-axis tick labels, etc.\n",
    "ax.set_xlabel('Metrics')\n",
    "ax.set_ylabel('Scores')\n",
    "ax.set_title('Model Performance Comparison')\n",
    "ax.set_xticks(x)\n",
    "ax.set_xticklabels(metrics)\n",
    "ax.legend()\n",
    "\n",
    "fig.tight_layout()\n",
    "\n",
    "plt.show()\n"
   ]
  },
  {
   "cell_type": "code",
   "execution_count": null,
   "metadata": {},
   "outputs": [
    {
     "name": "stdout",
     "output_type": "stream",
     "text": [
      "Fitting 5 folds for each of 252 candidates, totalling 1260 fits\n",
      "Best parameters found for Decision Tree: {'max_depth': 5, 'min_samples_split': 8, 'splitter': 'best'}\n",
      "Fitting 5 folds for each of 112 candidates, totalling 560 fits\n",
      "Best parameters found for RandomForest Tree: {'max_depth': 8, 'n_estimators': 51, 'random_state': 0}\n",
      "Fitting 5 folds for each of 56 candidates, totalling 280 fits\n",
      "Best parameters found for KNeighbors: {'metric': 'manhattan', 'n_neighbors': 14, 'weights': 'distance'}\n"
     ]
    }
   ],
   "source": [
    "#MUCH higher accuracy.. and achieving goal! \n",
    "\n",
    "#Introducing a class for 'Other' with varying features with no distinct pattern is confirmed\n",
    "# to be reducing accuracy for the model. Perform a grid search for this new binary classification.\n",
    "\n",
    "\n",
    "#Accuracy and performance metrics are not the best. this is likely due to trying to categorize\n",
    "#stars also under an 'other' category as well.\n",
    "\n",
    "#Try a grid search, retrain to see if the accuracy improves.\n",
    "#DecisionTree\n",
    "from sklearn.model_selection import GridSearchCV\n",
    "\n",
    "#perform a grid search for each algorithm to find the optimal hyper paramters\n",
    "grid_search = GridSearchCV(estimator=DecisionTreeClassifier(), param_grid={\n",
    "    'max_depth': list(range(1, 15, 1)),\n",
    "    'min_samples_split': list(range(2, 20, 2)),\n",
    "    'splitter': [\"best\", \"random\"]\n",
    "}, cv=5, verbose=1, error_score='raise')\n",
    "        \n",
    "        # Fit GridSearchCV with the training data.\n",
    "grid_search.fit(X_train, y_train)\n",
    "        \n",
    "        # Print the best parameters and best score found by GridSearchCV.\n",
    "print(f\"Best parameters found for Decision Tree: {grid_search.best_params_}\")\n",
    "#RandomForest\n",
    "grid_search = GridSearchCV(estimator=RandomForestClassifier(), param_grid={\n",
    "    'n_estimators': list(range(1, 100, 50)),\n",
    "    'max_depth': list(range(1, 15, 1)),\n",
    "    'random_state': list(range(0, 100, 25))\n",
    "}, cv=5, verbose=1, error_score='raise')\n",
    "        \n",
    "# Fit GridSearchCV with the training data.\n",
    "grid_search.fit(X_train, y_train)\n",
    "        \n",
    "        # Print the best parameters and best score found by GridSearchCV.\n",
    "print(f\"Best parameters found for RandomForest Tree: {grid_search.best_params_}\")\n",
    "#KNearest\n",
    "grid_search = GridSearchCV(estimator=KNeighborsClassifier(), param_grid={\n",
    "    'n_neighbors': list(range(1, 15, 1)),\n",
    "    'weights': ['uniform', 'distance'],\n",
    "    'metric': ['euclidean', 'manhattan']\n",
    "}, cv=5, verbose=1, error_score='raise')\n",
    "        \n",
    "        # Fit GridSearchCV with the training data.\n",
    "grid_search.fit(X_train, y_train)\n",
    "        \n",
    "        # Print the best parameters and best score found by GridSearchCV.\n",
    "print(f\"Best parameters found for KNeighbors: {grid_search.best_params_}\")\n"
   ]
  },
  {
   "cell_type": "code",
   "execution_count": null,
   "metadata": {},
   "outputs": [
    {
     "name": "stdout",
     "output_type": "stream",
     "text": [
      "0.8835512313773183\n",
      "0.8881751824817519\n",
      "0.8633869441816462\n",
      "0.9144288577154308\n"
     ]
    },
    {
     "data": {
      "image/png": "[encoded data removed]",
      "text/plain": [
       "<Figure size 640x480 with 2 Axes>"
      ]
     },
     "metadata": {},
     "output_type": "display_data"
    },
    {
     "name": "stdout",
     "output_type": "stream",
     "text": [
      "0.8802067497719671\n",
      "0.8857529479992268\n",
      "0.8554891710231516\n",
      "0.9182364729458918\n",
      "0.880409445626837\n",
      "0.8838582677165354\n",
      "0.8684719535783365\n",
      "0.8997995991983968\n"
     ]
    },
    {
     "data": {
      "text/plain": [
       "<sklearn.metrics._plot.confusion_matrix.ConfusionMatrixDisplay at 0x1267dee90>"
      ]
     },
     "execution_count": 220,
     "metadata": {},
     "output_type": "execute_result"
    },
    {
     "data": {
      "image/png": "[encoded data removed]",
      "text/plain": [
       "<Figure size 640x480 with 2 Axes>"
      ]
     },
     "metadata": {},
     "output_type": "display_data"
    },
    {
     "data": {
      "image/png": "[encoded data removed]",
      "text/plain": [
       "<Figure size 640x480 with 2 Axes>"
      ]
     },
     "metadata": {},
     "output_type": "display_data"
    }
   ],
   "source": [
    "#try random forest - get accuracy\n",
    "from sklearn.metrics import accuracy_score, precision_score, f1_score, recall_score\n",
    "from sklearn.metrics import confusion_matrix, ConfusionMatrixDisplay\n",
    "\n",
    "\n",
    "random_forest = RandomForestClassifier(max_depth = 8, n_estimators=51, random_state=0)\n",
    "random_forest.fit(X_train, y_train)\n",
    "preds = random_forest.predict(X_test)\n",
    "r_acc = accuracy_score(y_test, preds)\n",
    "r_f1 = f1_score(y_test, preds, average='binary') # Calculate metrics globally \n",
    "r_prec = precision_score(y_test, preds, average='binary') # Calculate metrics globally \n",
    "r_rec = recall_score(y_test, preds, average='binary') # Calculate metrics globally\n",
    "print(r_acc)\n",
    "print(r_f1)  \n",
    "print(r_prec) \n",
    "print(r_rec) \n",
    "\n",
    "cm = confusion_matrix(y_test, preds)\n",
    "# Plot the confusion matrix\n",
    "disp = ConfusionMatrixDisplay(confusion_matrix=cm)\n",
    "disp.plot(cmap=plt.cm.Blues)\n",
    "\n",
    "# Customize the plot\n",
    "plt.title('Confusion Matrix')\n",
    "plt.show()\n",
    "\n",
    "decision_tree = DecisionTreeClassifier(max_depth = 5, min_samples_split=8, splitter='best')\n",
    "decision_tree.fit(X_train, y_train)\n",
    "preds = decision_tree.predict(X_test)\n",
    "d_acc = accuracy_score(y_test, preds)\n",
    "d_f1 = f1_score(y_test, preds, average='binary') # binary\n",
    "d_prec = precision_score(y_test, preds, average='binary') # binary\n",
    "d_rec = recall_score(y_test, preds, average='binary') # binary\n",
    "print(d_acc)\n",
    "print(d_f1)  \n",
    "print(d_prec) \n",
    "print(d_rec) \n",
    "\n",
    "cm = confusion_matrix(y_test, preds)\n",
    "# Plot the confusion matrix\n",
    "disp = ConfusionMatrixDisplay(confusion_matrix=cm)\n",
    "disp.plot(cmap=plt.cm.Blues)\n",
    "\n",
    "#DropNan values from X\n",
    "k_neighbors = KNeighborsClassifier(n_neighbors=14, metric='manhattan', weights='distance')\n",
    "k_neighbors.fit(X_train_scaled, y_train)\n",
    "preds = k_neighbors.predict(X_test_scaled)\n",
    "k_acc = accuracy_score(y_test, preds)\n",
    "k_f1 = f1_score(y_test, preds, average='binary') # binary\n",
    "k_prec = precision_score(y_test, preds, average='binary') # binary\n",
    "k_rec = recall_score(y_test, preds, average='binary') # binary\n",
    "print(k_acc)\n",
    "print(k_f1)  \n",
    "print(k_prec) \n",
    "print(k_rec) \n",
    "\n",
    "cm = confusion_matrix(y_test, preds)\n",
    "# Plot the confusion matrix\n",
    "disp = ConfusionMatrixDisplay(confusion_matrix=cm)\n",
    "disp.plot(cmap=plt.cm.Blues)"
   ]
  },
  {
   "cell_type": "code",
   "execution_count": null,
   "metadata": {},
   "outputs": [
    {
     "data": {
      "image/png": "[encoded data removed]",
      "text/plain": [
       "<Figure size 640x480 with 1 Axes>"
      ]
     },
     "metadata": {},
     "output_type": "display_data"
    }
   ],
   "source": [
    "#plot\n",
    "import matplotlib.pyplot as plt\n",
    "import matplotlib.pyplot as plt\n",
    "import numpy as np\n",
    "\n",
    "# Define the models and their metrics\n",
    "models = ['Decision Tree', 'Random Forest', 'K Nearest Neighbors']\n",
    "metrics = ['Accuracy', 'Recall', 'Precision', 'F1 Score']\n",
    "\n",
    "# Example metric values for each model\n",
    "model_1_scores = [d_acc, d_rec, d_prec, d_f1]\n",
    "model_2_scores = [r_acc, r_rec, r_prec, r_f1]\n",
    "model_3_scores = [k_acc, k_rec, k_prec, k_f1]\n",
    "\n",
    "# Create a bar plot\n",
    "x = np.arange(len(metrics))  # the label locations\n",
    "width = 0.25  # the width of the bars\n",
    "\n",
    "fig, ax = plt.subplots()\n",
    "bars1 = ax.bar(x - width, model_1_scores, width, label='Decision Tree')\n",
    "bars2 = ax.bar(x, model_2_scores, width, label='Random Forest')\n",
    "bars3 = ax.bar(x + width, model_3_scores, width, label='K Nearest Neighbors')\n",
    "\n",
    "# Add some text for labels, title and custom x-axis tick labels, etc.\n",
    "ax.set_xlabel('Metrics')\n",
    "ax.set_ylabel('Scores')\n",
    "ax.set_title('Model Performance Comparison')\n",
    "ax.set_xticks(x)\n",
    "ax.set_xticklabels(metrics)\n",
    "ax.legend()\n",
    "\n",
    "fig.tight_layout()\n",
    "\n",
    "plt.show()\n"
   ]
  },
  {
   "cell_type": "code",
   "execution_count": null,
   "metadata": {},
   "outputs": [],
   "source": []
  }
 ],
 "metadata": {
  "kernelspec": {
   "display_name": "Python 3",
   "language": "python",
   "name": "python3"
  },
  "language_info": {
   "codemirror_mode": {
    "name": "ipython",
    "version": 3
   },
   "file_extension": ".py",
   "mimetype": "text/x-python",
   "name": "python",
   "nbconvert_exporter": "python",
   "pygments_lexer": "ipython3",
   "version": "3.10.11"
  }
 },
 "nbformat": 4,
 "nbformat_minor": 2
}
