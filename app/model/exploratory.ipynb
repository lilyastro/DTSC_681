{
  "cells": [
    {
      "cell_type": "code",
      "execution_count": 45,
      "metadata": {
        "id": "6Rzyo9M4t7ej"
      },
      "outputs": [],
      "source": [
        "import pandas as pd\n",
        "import numpy as np"
      ]
    },
    {
      "cell_type": "code",
      "execution_count": 46,
      "metadata": {
        "id": "NZinTiYTt7ek"
      },
      "outputs": [],
      "source": [
        "df = pd.read_csv('Star99999_raw.csv')"
      ]
    },
    {
      "cell_type": "code",
      "execution_count": 47,
      "metadata": {
        "colab": {
          "base_uri": "https://localhost:8080/",
          "height": 0
        },
        "id": "mEIqloBut7el",
        "outputId": "8b35ab35-a001-4097-e8a4-a42fddab8ec2"
      },
      "outputs": [
        {
          "output_type": "stream",
          "name": "stdout",
          "text": [
            "<class 'pandas.core.frame.DataFrame'>\n",
            "RangeIndex: 99999 entries, 0 to 99998\n",
            "Data columns (total 6 columns):\n",
            " #   Column      Non-Null Count  Dtype \n",
            "---  ------      --------------  ----- \n",
            " 0   Unnamed: 0  99999 non-null  int64 \n",
            " 1   Vmag        99999 non-null  object\n",
            " 2   Plx         99999 non-null  object\n",
            " 3   e_Plx       99999 non-null  object\n",
            " 4   B-V         99999 non-null  object\n",
            " 5   SpType      97377 non-null  object\n",
            "dtypes: int64(1), object(5)\n",
            "memory usage: 4.6+ MB\n"
          ]
        }
      ],
      "source": [
        "df.info()\n",
        "# need to remove the nulls present in SpType - we cannot test/validate on empty star types."
      ]
    },
    {
      "cell_type": "code",
      "execution_count": 48,
      "metadata": {
        "colab": {
          "base_uri": "https://localhost:8080/",
          "height": 300
        },
        "id": "KN9uoki9t7el",
        "outputId": "8583d0fd-f23d-4ce9-b9cb-45ae0fd4bace"
      },
      "outputs": [
        {
          "output_type": "execute_result",
          "data": {
            "text/plain": [
              "         Unnamed: 0\n",
              "count  99999.000000\n",
              "mean   49999.000000\n",
              "std    28867.369122\n",
              "min        0.000000\n",
              "25%    24999.500000\n",
              "50%    49999.000000\n",
              "75%    74998.500000\n",
              "max    99998.000000"
            ],
            "text/html": [
              "\n",
              "  <div id=\"df-df97d8f7-5e78-4554-9c09-c4571a6abd8f\" class=\"colab-df-container\">\n",
              "    <div>\n",
              "<style scoped>\n",
              "    .dataframe tbody tr th:only-of-type {\n",
              "        vertical-align: middle;\n",
              "    }\n",
              "\n",
              "    .dataframe tbody tr th {\n",
              "        vertical-align: top;\n",
              "    }\n",
              "\n",
              "    .dataframe thead th {\n",
              "        text-align: right;\n",
              "    }\n",
              "</style>\n",
              "<table border=\"1\" class=\"dataframe\">\n",
              "  <thead>\n",
              "    <tr style=\"text-align: right;\">\n",
              "      <th></th>\n",
              "      <th>Unnamed: 0</th>\n",
              "    </tr>\n",
              "  </thead>\n",
              "  <tbody>\n",
              "    <tr>\n",
              "      <th>count</th>\n",
              "      <td>99999.000000</td>\n",
              "    </tr>\n",
              "    <tr>\n",
              "      <th>mean</th>\n",
              "      <td>49999.000000</td>\n",
              "    </tr>\n",
              "    <tr>\n",
              "      <th>std</th>\n",
              "      <td>28867.369122</td>\n",
              "    </tr>\n",
              "    <tr>\n",
              "      <th>min</th>\n",
              "      <td>0.000000</td>\n",
              "    </tr>\n",
              "    <tr>\n",
              "      <th>25%</th>\n",
              "      <td>24999.500000</td>\n",
              "    </tr>\n",
              "    <tr>\n",
              "      <th>50%</th>\n",
              "      <td>49999.000000</td>\n",
              "    </tr>\n",
              "    <tr>\n",
              "      <th>75%</th>\n",
              "      <td>74998.500000</td>\n",
              "    </tr>\n",
              "    <tr>\n",
              "      <th>max</th>\n",
              "      <td>99998.000000</td>\n",
              "    </tr>\n",
              "  </tbody>\n",
              "</table>\n",
              "</div>\n",
              "    <div class=\"colab-df-buttons\">\n",
              "\n",
              "  <div class=\"colab-df-container\">\n",
              "    <button class=\"colab-df-convert\" onclick=\"convertToInteractive('df-df97d8f7-5e78-4554-9c09-c4571a6abd8f')\"\n",
              "            title=\"Convert this dataframe to an interactive table.\"\n",
              "            style=\"display:none;\">\n",
              "\n",
              "  <svg xmlns=\"http://www.w3.org/2000/svg\" height=\"24px\" viewBox=\"0 -960 960 960\">\n",
              "    <path d=\"M120-120v-720h720v720H120Zm60-500h600v-160H180v160Zm220 220h160v-160H400v160Zm0 220h160v-160H400v160ZM180-400h160v-160H180v160Zm440 0h160v-160H620v160ZM180-180h160v-160H180v160Zm440 0h160v-160H620v160Z\"/>\n",
              "  </svg>\n",
              "    </button>\n",
              "\n",
              "  <style>\n",
              "    .colab-df-container {\n",
              "      display:flex;\n",
              "      gap: 12px;\n",
              "    }\n",
              "\n",
              "    .colab-df-convert {\n",
              "      background-color: #E8F0FE;\n",
              "      border: none;\n",
              "      border-radius: 50%;\n",
              "      cursor: pointer;\n",
              "      display: none;\n",
              "      fill: #1967D2;\n",
              "      height: 32px;\n",
              "      padding: 0 0 0 0;\n",
              "      width: 32px;\n",
              "    }\n",
              "\n",
              "    .colab-df-convert:hover {\n",
              "      background-color: #E2EBFA;\n",
              "      box-shadow: 0px 1px 2px rgba(60, 64, 67, 0.3), 0px 1px 3px 1px rgba(60, 64, 67, 0.15);\n",
              "      fill: #174EA6;\n",
              "    }\n",
              "\n",
              "    .colab-df-buttons div {\n",
              "      margin-bottom: 4px;\n",
              "    }\n",
              "\n",
              "    [theme=dark] .colab-df-convert {\n",
              "      background-color: #3B4455;\n",
              "      fill: #D2E3FC;\n",
              "    }\n",
              "\n",
              "    [theme=dark] .colab-df-convert:hover {\n",
              "      background-color: #434B5C;\n",
              "      box-shadow: 0px 1px 3px 1px rgba(0, 0, 0, 0.15);\n",
              "      filter: drop-shadow(0px 1px 2px rgba(0, 0, 0, 0.3));\n",
              "      fill: #FFFFFF;\n",
              "    }\n",
              "  </style>\n",
              "\n",
              "    <script>\n",
              "      const buttonEl =\n",
              "        document.querySelector('#df-df97d8f7-5e78-4554-9c09-c4571a6abd8f button.colab-df-convert');\n",
              "      buttonEl.style.display =\n",
              "        google.colab.kernel.accessAllowed ? 'block' : 'none';\n",
              "\n",
              "      async function convertToInteractive(key) {\n",
              "        const element = document.querySelector('#df-df97d8f7-5e78-4554-9c09-c4571a6abd8f');\n",
              "        const dataTable =\n",
              "          await google.colab.kernel.invokeFunction('convertToInteractive',\n",
              "                                                    [key], {});\n",
              "        if (!dataTable) return;\n",
              "\n",
              "        const docLinkHtml = 'Like what you see? Visit the ' +\n",
              "          '<a target=\"_blank\" href=https://colab.research.google.com/notebooks/data_table.ipynb>data table notebook</a>'\n",
              "          + ' to learn more about interactive tables.';\n",
              "        element.innerHTML = '';\n",
              "        dataTable['output_type'] = 'display_data';\n",
              "        await google.colab.output.renderOutput(dataTable, element);\n",
              "        const docLink = document.createElement('div');\n",
              "        docLink.innerHTML = docLinkHtml;\n",
              "        element.appendChild(docLink);\n",
              "      }\n",
              "    </script>\n",
              "  </div>\n",
              "\n",
              "\n",
              "<div id=\"df-48602fd8-5c10-44c1-aad7-b1d6621a70e1\">\n",
              "  <button class=\"colab-df-quickchart\" onclick=\"quickchart('df-48602fd8-5c10-44c1-aad7-b1d6621a70e1')\"\n",
              "            title=\"Suggest charts\"\n",
              "            style=\"display:none;\">\n",
              "\n",
              "<svg xmlns=\"http://www.w3.org/2000/svg\" height=\"24px\"viewBox=\"0 0 24 24\"\n",
              "     width=\"24px\">\n",
              "    <g>\n",
              "        <path d=\"M19 3H5c-1.1 0-2 .9-2 2v14c0 1.1.9 2 2 2h14c1.1 0 2-.9 2-2V5c0-1.1-.9-2-2-2zM9 17H7v-7h2v7zm4 0h-2V7h2v10zm4 0h-2v-4h2v4z\"/>\n",
              "    </g>\n",
              "</svg>\n",
              "  </button>\n",
              "\n",
              "<style>\n",
              "  .colab-df-quickchart {\n",
              "      --bg-color: #E8F0FE;\n",
              "      --fill-color: #1967D2;\n",
              "      --hover-bg-color: #E2EBFA;\n",
              "      --hover-fill-color: #174EA6;\n",
              "      --disabled-fill-color: #AAA;\n",
              "      --disabled-bg-color: #DDD;\n",
              "  }\n",
              "\n",
              "  [theme=dark] .colab-df-quickchart {\n",
              "      --bg-color: #3B4455;\n",
              "      --fill-color: #D2E3FC;\n",
              "      --hover-bg-color: #434B5C;\n",
              "      --hover-fill-color: #FFFFFF;\n",
              "      --disabled-bg-color: #3B4455;\n",
              "      --disabled-fill-color: #666;\n",
              "  }\n",
              "\n",
              "  .colab-df-quickchart {\n",
              "    background-color: var(--bg-color);\n",
              "    border: none;\n",
              "    border-radius: 50%;\n",
              "    cursor: pointer;\n",
              "    display: none;\n",
              "    fill: var(--fill-color);\n",
              "    height: 32px;\n",
              "    padding: 0;\n",
              "    width: 32px;\n",
              "  }\n",
              "\n",
              "  .colab-df-quickchart:hover {\n",
              "    background-color: var(--hover-bg-color);\n",
              "    box-shadow: 0 1px 2px rgba(60, 64, 67, 0.3), 0 1px 3px 1px rgba(60, 64, 67, 0.15);\n",
              "    fill: var(--button-hover-fill-color);\n",
              "  }\n",
              "\n",
              "  .colab-df-quickchart-complete:disabled,\n",
              "  .colab-df-quickchart-complete:disabled:hover {\n",
              "    background-color: var(--disabled-bg-color);\n",
              "    fill: var(--disabled-fill-color);\n",
              "    box-shadow: none;\n",
              "  }\n",
              "\n",
              "  .colab-df-spinner {\n",
              "    border: 2px solid var(--fill-color);\n",
              "    border-color: transparent;\n",
              "    border-bottom-color: var(--fill-color);\n",
              "    animation:\n",
              "      spin 1s steps(1) infinite;\n",
              "  }\n",
              "\n",
              "  @keyframes spin {\n",
              "    0% {\n",
              "      border-color: transparent;\n",
              "      border-bottom-color: var(--fill-color);\n",
              "      border-left-color: var(--fill-color);\n",
              "    }\n",
              "    20% {\n",
              "      border-color: transparent;\n",
              "      border-left-color: var(--fill-color);\n",
              "      border-top-color: var(--fill-color);\n",
              "    }\n",
              "    30% {\n",
              "      border-color: transparent;\n",
              "      border-left-color: var(--fill-color);\n",
              "      border-top-color: var(--fill-color);\n",
              "      border-right-color: var(--fill-color);\n",
              "    }\n",
              "    40% {\n",
              "      border-color: transparent;\n",
              "      border-right-color: var(--fill-color);\n",
              "      border-top-color: var(--fill-color);\n",
              "    }\n",
              "    60% {\n",
              "      border-color: transparent;\n",
              "      border-right-color: var(--fill-color);\n",
              "    }\n",
              "    80% {\n",
              "      border-color: transparent;\n",
              "      border-right-color: var(--fill-color);\n",
              "      border-bottom-color: var(--fill-color);\n",
              "    }\n",
              "    90% {\n",
              "      border-color: transparent;\n",
              "      border-bottom-color: var(--fill-color);\n",
              "    }\n",
              "  }\n",
              "</style>\n",
              "\n",
              "  <script>\n",
              "    async function quickchart(key) {\n",
              "      const quickchartButtonEl =\n",
              "        document.querySelector('#' + key + ' button');\n",
              "      quickchartButtonEl.disabled = true;  // To prevent multiple clicks.\n",
              "      quickchartButtonEl.classList.add('colab-df-spinner');\n",
              "      try {\n",
              "        const charts = await google.colab.kernel.invokeFunction(\n",
              "            'suggestCharts', [key], {});\n",
              "      } catch (error) {\n",
              "        console.error('Error during call to suggestCharts:', error);\n",
              "      }\n",
              "      quickchartButtonEl.classList.remove('colab-df-spinner');\n",
              "      quickchartButtonEl.classList.add('colab-df-quickchart-complete');\n",
              "    }\n",
              "    (() => {\n",
              "      let quickchartButtonEl =\n",
              "        document.querySelector('#df-48602fd8-5c10-44c1-aad7-b1d6621a70e1 button');\n",
              "      quickchartButtonEl.style.display =\n",
              "        google.colab.kernel.accessAllowed ? 'block' : 'none';\n",
              "    })();\n",
              "  </script>\n",
              "</div>\n",
              "\n",
              "    </div>\n",
              "  </div>\n"
            ],
            "application/vnd.google.colaboratory.intrinsic+json": {
              "type": "dataframe",
              "summary": "{\n  \"name\": \"df\",\n  \"rows\": 8,\n  \"fields\": [\n    {\n      \"column\": \"Unnamed: 0\",\n      \"properties\": {\n        \"dtype\": \"number\",\n        \"std\": 36039.90443961417,\n        \"min\": 0.0,\n        \"max\": 99999.0,\n        \"num_unique_values\": 7,\n        \"samples\": [\n          99999.0,\n          49999.0,\n          74998.5\n        ],\n        \"semantic_type\": \"\",\n        \"description\": \"\"\n      }\n    }\n  ]\n}"
            }
          },
          "metadata": {},
          "execution_count": 48
        }
      ],
      "source": [
        "df.describe()"
      ]
    },
    {
      "cell_type": "code",
      "execution_count": 49,
      "metadata": {
        "colab": {
          "base_uri": "https://localhost:8080/",
          "height": 0
        },
        "id": "h0Wc5au3t7el",
        "outputId": "93ff84a3-0a98-4e38-d87d-a3b675d88238"
      },
      "outputs": [
        {
          "output_type": "stream",
          "name": "stdout",
          "text": [
            "\n",
            "Total number of nulls in the dataset: 2622\n",
            "Total Null percentage:  2.6220262202622027\n"
          ]
        }
      ],
      "source": [
        "#count total nulls\n",
        "total_nulls = df.isnull().sum().sum()\n",
        "print(\"\\nTotal number of nulls in the dataset:\", total_nulls)\n",
        "\n",
        "# good to drop\n",
        "print('Total Null percentage: ', 2622/len(df)*100)"
      ]
    },
    {
      "cell_type": "code",
      "execution_count": 50,
      "metadata": {
        "id": "i4M7dPrmt7em"
      },
      "outputs": [],
      "source": [
        "df.dropna(inplace=True)\n",
        "\n",
        "#reset index\n",
        "df.reset_index(inplace=True, drop=True)"
      ]
    },
    {
      "cell_type": "code",
      "execution_count": 51,
      "metadata": {
        "colab": {
          "base_uri": "https://localhost:8080/",
          "height": 0
        },
        "id": "Q-_2Ykrot7em",
        "outputId": "b4ca43e6-c800-4164-e6f3-4179426137b4"
      },
      "outputs": [
        {
          "output_type": "stream",
          "name": "stdout",
          "text": [
            "       Unnamed: 0   Vmag      Plx   e_Plx     B-V    SpType\n",
            "0               0   9.10     3.54    1.39   0.482        F5\n",
            "1               1   9.27    21.90    3.10   0.999       K3V\n",
            "2               2   6.61     2.81    0.63  -0.019        B9\n",
            "3               3   8.06     7.75    0.97   0.370       F0V\n",
            "4               4   8.55     2.87    1.11   0.902     G8III\n",
            "...           ...    ...      ...     ...     ...       ...\n",
            "97372       99994   8.72     3.07    0.87   0.097        B3\n",
            "97373       99995   9.25                    0.131       A1V\n",
            "97374       99996   8.08     1.07    0.68   1.094        G5\n",
            "97375       99997   6.98     2.97    0.76  -0.143     B1.5V\n",
            "97376       99998   8.51    -1.18    1.34   1.568  K5/M0III\n",
            "\n",
            "[97377 rows x 6 columns]\n"
          ]
        }
      ],
      "source": [
        "print(df)"
      ]
    },
    {
      "cell_type": "code",
      "execution_count": 52,
      "metadata": {
        "id": "Ei-2W2GXt7em"
      },
      "outputs": [],
      "source": [
        "df.drop_duplicates(inplace=True)"
      ]
    },
    {
      "cell_type": "code",
      "execution_count": 53,
      "metadata": {
        "colab": {
          "base_uri": "https://localhost:8080/",
          "height": 0
        },
        "id": "vJM9dyU8t7em",
        "outputId": "8267f902-f913-46b2-90c3-103462fe7cf4"
      },
      "outputs": [
        {
          "output_type": "stream",
          "name": "stdout",
          "text": [
            "       Unnamed: 0   Vmag      Plx   e_Plx     B-V    SpType\n",
            "0               0   9.10     3.54    1.39   0.482        F5\n",
            "1               1   9.27    21.90    3.10   0.999       K3V\n",
            "2               2   6.61     2.81    0.63  -0.019        B9\n",
            "3               3   8.06     7.75    0.97   0.370       F0V\n",
            "4               4   8.55     2.87    1.11   0.902     G8III\n",
            "...           ...    ...      ...     ...     ...       ...\n",
            "97372       99994   8.72     3.07    0.87   0.097        B3\n",
            "97373       99995   9.25                    0.131       A1V\n",
            "97374       99996   8.08     1.07    0.68   1.094        G5\n",
            "97375       99997   6.98     2.97    0.76  -0.143     B1.5V\n",
            "97376       99998   8.51    -1.18    1.34   1.568  K5/M0III\n",
            "\n",
            "[97377 rows x 6 columns]\n"
          ]
        }
      ],
      "source": [
        "print(df)\n",
        "#no duplicates present"
      ]
    },
    {
      "cell_type": "code",
      "execution_count": 54,
      "metadata": {
        "id": "6-Mu-egrt7em"
      },
      "outputs": [],
      "source": [
        "#change the datatypes to float.\n",
        "for col in df.columns:\n",
        "    if col != 'SpType':\n",
        "        df[col] = pd.to_numeric(df[col], downcast=\"float\", errors='coerce')"
      ]
    },
    {
      "cell_type": "code",
      "execution_count": 55,
      "metadata": {
        "colab": {
          "base_uri": "https://localhost:8080/",
          "height": 0
        },
        "id": "YRqtxGzXt7en",
        "outputId": "b96271a4-fd9b-4aa3-9052-6721a14b27cd"
      },
      "outputs": [
        {
          "output_type": "stream",
          "name": "stdout",
          "text": [
            "Before dropping outliers... count    97268.000000\n",
            "mean         1.277213\n",
            "std          1.210870\n",
            "min          0.380000\n",
            "25%          0.870000\n",
            "50%          1.090000\n",
            "75%          1.370000\n",
            "max         69.070000\n",
            "Name: e_Plx, dtype: float64\n",
            "After dropping outliers... count    96311.000000\n",
            "mean         1.194724\n",
            "std          0.535176\n",
            "min          0.380000\n",
            "25%          0.870000\n",
            "50%          1.080000\n",
            "75%          1.355000\n",
            "max          4.900000\n",
            "Name: e_Plx, dtype: float64\n"
          ]
        }
      ],
      "source": [
        "#look at e_plx\n",
        "print('Before dropping outliers...', df['e_Plx'].describe())\n",
        "\n",
        "# need to drop any parallex margin of errors that are statistically significant. This will be 3 STD's away from median.\n",
        "# we chose median because astronomoical values can vary so greatly - median tends to be the better\n",
        "# identifier of for the standard of the dataset without any outliers skewing the data.\n",
        "mean = df['e_Plx'].mean()\n",
        "std = df['e_Plx'].std()\n",
        "\n",
        "threshold = mean + (3 * std)\n",
        "\n",
        "df = df[df['e_Plx'] < threshold]\n",
        "\n",
        "print('After dropping outliers...', df['e_Plx'].describe())"
      ]
    },
    {
      "cell_type": "code",
      "execution_count": 56,
      "metadata": {
        "colab": {
          "base_uri": "https://localhost:8080/",
          "height": 0
        },
        "id": "CJETupmVt7en",
        "outputId": "8ddecd1d-e933-437c-dfbe-5b148f8a1562"
      },
      "outputs": [
        {
          "output_type": "stream",
          "name": "stderr",
          "text": [
            "/usr/local/lib/python3.10/dist-packages/pandas/core/arraylike.py:396: RuntimeWarning: divide by zero encountered in log10\n",
            "  result = getattr(ufunc, method)(*inputs, **kwargs)\n",
            "<ipython-input-56-811d3e918dc7>:2: SettingWithCopyWarning: \n",
            "A value is trying to be set on a copy of a slice from a DataFrame.\n",
            "Try using .loc[row_indexer,col_indexer] = value instead\n",
            "\n",
            "See the caveats in the documentation: https://pandas.pydata.org/pandas-docs/stable/user_guide/indexing.html#returning-a-view-versus-a-copy\n",
            "  df[\"Abs_Mag\"] = df[\"Vmag\"] + 5 * (np.log10(abs(df[\"Plx\"]))+1)\n"
          ]
        }
      ],
      "source": [
        "# add abs mag\n",
        "df[\"Abs_Mag\"] = df[\"Vmag\"] + 5 * (np.log10(abs(df[\"Plx\"]))+1)"
      ]
    },
    {
      "cell_type": "code",
      "execution_count": 57,
      "metadata": {
        "id": "l-0HTgwlt7en"
      },
      "outputs": [],
      "source": [
        "## divide by zero error - filter out any parallax that = 0\n",
        "df = df[df['Plx'] != 0]"
      ]
    },
    {
      "cell_type": "code",
      "execution_count": 58,
      "metadata": {
        "id": "leStW_m3t7eo"
      },
      "outputs": [],
      "source": [
        "df[\"Abs_Mag\"] = df[\"Vmag\"] + 5 * (np.log10(abs(df[\"Plx\"]))+1)"
      ]
    },
    {
      "cell_type": "code",
      "execution_count": 59,
      "metadata": {
        "id": "8TV0NQJjt7eo"
      },
      "outputs": [],
      "source": [
        "\n",
        "# Create the classification column\n",
        "def categorize_star_type(sp_type):\n",
        "    if \"V\" in sp_type:\n",
        "        if \"VII\" in sp_type:\n",
        "            return 0  # Dwarfs are VII\n",
        "        else:\n",
        "            return 1  # Giants are V, IV, and VI\n",
        "    elif \"I\" in sp_type:\n",
        "        return 0  # Dwarfs are I, II, III\n",
        "    else:\n",
        "        return 3  # Other Class\n",
        "\n",
        "# Apply the function to the 'SpType' column to create the 'Target' column\n",
        "df['Target'] = df['SpType'].apply(categorize_star_type)"
      ]
    },
    {
      "cell_type": "code",
      "execution_count": 60,
      "metadata": {
        "colab": {
          "base_uri": "https://localhost:8080/",
          "height": 0
        },
        "id": "TbK3kMjMt7eo",
        "outputId": "a498d282-aa51-4e2a-f5e6-4bebb429cf43"
      },
      "outputs": [
        {
          "output_type": "stream",
          "name": "stdout",
          "text": [
            "       Unnamed: 0  Vmag    Plx  e_Plx    B-V    SpType    Abs_Mag  Target\n",
            "0             0.0  9.10   3.54   1.39  0.482        F5  16.845016       3\n",
            "1             1.0  9.27  21.90   3.10  0.999       K3V  20.972221       1\n",
            "2             2.0  6.61   2.81   0.63 -0.019        B9  13.853533       3\n",
            "3             3.0  8.06   7.75   0.97  0.370       F0V  17.506508       1\n",
            "4             4.0  8.55   2.87   1.11  0.902     G8III  15.839410       0\n",
            "...           ...   ...    ...    ...    ...       ...        ...     ...\n",
            "97371     99993.0  7.92   3.93   1.24  0.133     Am...  15.891963       3\n",
            "97372     99994.0  8.72   3.07   0.87  0.097        B3  16.155693       3\n",
            "97374     99996.0  8.08   1.07   0.68  1.094        G5  13.226919       3\n",
            "97375     99997.0  6.98   2.97   0.76 -0.143     B1.5V  14.343782       1\n",
            "97376     99998.0  8.51  -1.18   1.34  1.568  K5/M0III  13.869411       0\n",
            "\n",
            "[96272 rows x 8 columns]\n"
          ]
        }
      ],
      "source": [
        "print(df)"
      ]
    },
    {
      "cell_type": "code",
      "execution_count": 61,
      "metadata": {
        "id": "3Hv6Oti-t7eo"
      },
      "outputs": [],
      "source": [
        "#drop unnamed column\n",
        "df = df.drop(columns=['Unnamed: 0'])\n"
      ]
    },
    {
      "cell_type": "code",
      "execution_count": 62,
      "metadata": {
        "colab": {
          "base_uri": "https://localhost:8080/",
          "height": 0
        },
        "id": "XXLLz65Zt7eo",
        "outputId": "0be8b766-58f2-4af2-86e2-30f21b063bbb"
      },
      "outputs": [
        {
          "output_type": "stream",
          "name": "stdout",
          "text": [
            "       Vmag    Plx  e_Plx    B-V    SpType    Abs_Mag  Target\n",
            "0      9.10   3.54   1.39  0.482        F5  16.845016       3\n",
            "1      9.27  21.90   3.10  0.999       K3V  20.972221       1\n",
            "2      6.61   2.81   0.63 -0.019        B9  13.853533       3\n",
            "3      8.06   7.75   0.97  0.370       F0V  17.506508       1\n",
            "4      8.55   2.87   1.11  0.902     G8III  15.839410       0\n",
            "...     ...    ...    ...    ...       ...        ...     ...\n",
            "97371  7.92   3.93   1.24  0.133     Am...  15.891963       3\n",
            "97372  8.72   3.07   0.87  0.097        B3  16.155693       3\n",
            "97374  8.08   1.07   0.68  1.094        G5  13.226919       3\n",
            "97375  6.98   2.97   0.76 -0.143     B1.5V  14.343782       1\n",
            "97376  8.51  -1.18   1.34  1.568  K5/M0III  13.869411       0\n",
            "\n",
            "[96272 rows x 7 columns]\n"
          ]
        }
      ],
      "source": [
        "print(df)"
      ]
    },
    {
      "cell_type": "code",
      "execution_count": 63,
      "metadata": {
        "colab": {
          "base_uri": "https://localhost:8080/",
          "height": 0
        },
        "id": "jxn3ma6Kt7eo",
        "outputId": "741cbcb3-6349-4ece-d336-f377bf4892cf"
      },
      "outputs": [
        {
          "output_type": "stream",
          "name": "stdout",
          "text": [
            "Target\n",
            "3    48907\n",
            "1    27591\n",
            "0    19774\n",
            "Name: count, dtype: int64\n",
            "       Vmag        Plx  e_Plx    B-V    SpType    Abs_Mag  Target\n",
            "49961  6.51  10.670000   0.76  0.311     A7III  16.650822       0\n",
            "44926  7.56   1.930000   0.87  1.640     M2III  13.987786       0\n",
            "37103  6.77  23.969999   0.97  0.468       F5V  18.668341       1\n",
            "9082   6.80   2.190000   0.87  0.700      M...  13.502220       3\n",
            "29907  7.68   6.110000   0.60  0.152    B6IV/V  16.610207       1\n",
            "...     ...        ...    ...    ...       ...        ...     ...\n",
            "53702  6.93   1.630000   0.77  1.028  G6II+...  12.990938       0\n",
            "41722  7.99   1.850000   0.80  1.437  K2/K3III  14.325859       0\n",
            "37489  7.86   2.870000   1.19 -0.008       B8V  15.149410       1\n",
            "51031  6.23   1.730000   0.55  1.237      G3Ib  12.420231       0\n",
            "21148  6.70   3.450000   0.83 -0.059      B9IV  14.389095       1\n",
            "\n",
            "[59322 rows x 7 columns]\n",
            "Target\n",
            "0    19774\n",
            "1    19774\n",
            "3    19774\n",
            "Name: count, dtype: int64\n"
          ]
        }
      ],
      "source": [
        "from sklearn.utils import resample\n",
        "from sklearn.utils import shuffle\n",
        "\n",
        "#try to classify on the 3 classes: 0 Dwarf, 1 Giant, 3 other\n",
        "value_counts = df['Target'].value_counts()\n",
        "print(value_counts)\n",
        "\n",
        "giants = df[df['Target'] == 1]\n",
        "others = df[df['Target'] == 3]\n",
        "dwarfs = df[df['Target']== 0]\n",
        "\n",
        "#significantly more other stars, then more Giants, not as many dwarfs. We need to rebalance dataset.\n",
        "resamp_giants = resample(giants,\n",
        "                                 replace=False,\n",
        "                                 n_samples=dwarfs.shape[0],\n",
        "                                 random_state=1)\n",
        "resamp_others = resample(others,\n",
        "                                 replace=False,\n",
        "                                 n_samples=dwarfs.shape[0],\n",
        "                                 random_state=1)\n",
        "\n",
        "df = pd.concat([resamp_others, resamp_giants, dwarfs])\n",
        "df.reset_index(inplace=True, drop=True)\n",
        "df = shuffle(df)\n",
        "print(df)\n",
        "print(df['Target'].value_counts())"
      ]
    },
    {
      "cell_type": "code",
      "execution_count": 64,
      "metadata": {
        "id": "xEqu33-Mt7ep"
      },
      "outputs": [],
      "source": [
        "df.dropna(inplace=True)\n",
        "\n",
        "#reset index\n",
        "df.reset_index(inplace=True, drop=True)"
      ]
    },
    {
      "cell_type": "code",
      "execution_count": 65,
      "metadata": {
        "id": "vWG1KGRCt7ep"
      },
      "outputs": [],
      "source": [
        "#attempt to classify the 3 classes\n",
        "\n",
        "# Split data into Feature and Label data - independent and dependent variables.\n",
        "X = df[['Vmag', 'Plx', 'B-V', 'e_Plx', 'B-V', 'Abs_Mag']]\n",
        "X = X.values\n",
        "Y = df[['Target']]\n",
        "Y = Y.values\n",
        "Y = Y.flatten().astype('int')"
      ]
    },
    {
      "cell_type": "code",
      "execution_count": 66,
      "metadata": {
        "colab": {
          "base_uri": "https://localhost:8080/",
          "height": 0
        },
        "id": "E6nA2nMNt7ep",
        "outputId": "87cad353-e162-4c47-fe43-4b60024dd209"
      },
      "outputs": [
        {
          "output_type": "stream",
          "name": "stdout",
          "text": [
            "[[ 6.5100002e+00  1.0670000e+01  3.1099999e-01  7.5999999e-01\n",
            "   5.4900000e+02  1.6650822e+01]\n",
            " [ 7.5599999e+00  1.9299999e+00  1.6400000e+00  8.7000000e-01\n",
            "   1.8780000e+03  1.3987786e+01]\n",
            " [ 6.7700000e+00  2.3969999e+01  4.6799999e-01  9.7000003e-01\n",
            "   7.0600000e+02  1.8668341e+01]\n",
            " ...\n",
            " [ 7.8600001e+00  2.8699999e+00 -8.0000004e-03  1.1900001e+00\n",
            "   2.3000000e+02  1.5149410e+01]\n",
            " [ 6.2300000e+00  1.7300000e+00  1.2370000e+00  5.5000001e-01\n",
            "   1.4750000e+03  1.2420231e+01]\n",
            " [ 6.6999998e+00  3.4500000e+00 -5.9000000e-02  8.2999998e-01\n",
            "   1.7900000e+02  1.4389095e+01]]\n"
          ]
        }
      ],
      "source": [
        "# use label encoding since we are turning a categorical variable into numerical.\n",
        "from sklearn.preprocessing import LabelEncoder\n",
        "encoded_x = LabelEncoder()\n",
        "X[:,4]=encoded_x.fit_transform(X[:,4])\n",
        "print(X)"
      ]
    },
    {
      "cell_type": "code",
      "execution_count": 67,
      "metadata": {
        "id": "-gLvKC-4t7ep"
      },
      "outputs": [],
      "source": [
        "from sklearn.ensemble import RandomForestClassifier\n",
        "from sklearn.neighbors import KNeighborsClassifier\n",
        "from sklearn.preprocessing import StandardScaler\n",
        "from sklearn.tree import DecisionTreeClassifier\n",
        "from sklearn.model_selection import train_test_split\n",
        "\n",
        "#Split into test and training set.\n",
        "X_train, X_test, y_train, y_test = train_test_split(X, Y, test_size = 0.25, random_state = 0)\n",
        "#standard scale for KNeighbors - this algorithm is sensitive to scaling.\n",
        "scaler = StandardScaler()\n",
        "scaler.fit(X_train)\n",
        "X_train_scaled = scaler.transform(X_train)\n",
        "X_test_scaled = scaler.transform(X_test)"
      ]
    },
    {
      "cell_type": "code",
      "execution_count": 77,
      "metadata": {
        "colab": {
          "base_uri": "https://localhost:8080/",
          "height": 0
        },
        "id": "RbHVN5kOt7ep",
        "outputId": "6dbbc2b0-ccc8-4134-a4ab-403f0af7e7ac"
      },
      "outputs": [
        {
          "output_type": "stream",
          "name": "stdout",
          "text": [
            "0.6196792312377343\n",
            "[0.7491731  0.67426083 0.31347497]\n",
            "0.6196792312377343\n",
            "0.6196792312377343\n",
            "0.6087162482235907\n",
            "[0.74213042 0.67523402 0.21327419]\n",
            "0.6087162482235907\n",
            "0.6087162482235907\n",
            "0.5777221357515058\n",
            "[0.69637831 0.60485909 0.39832675]\n",
            "0.5777221357515058\n",
            "0.5777221357515058\n"
          ]
        }
      ],
      "source": [
        "#try random forest - get accuracy\n",
        "from sklearn.metrics import accuracy_score, precision_score, f1_score, recall_score\n",
        "\n",
        "\n",
        "random_forest = RandomForestClassifier(max_depth = 5, n_estimators=100, random_state=50)\n",
        "random_forest.fit(X_train, y_train)\n",
        "preds = random_forest.predict(X_test)\n",
        "r_acc = accuracy_score(y_test, preds)\n",
        "r_f1 = f1_score(y_test, preds, average=None) # for non binary classification\n",
        "r_prec = precision_score(y_test, preds, average='micro') # Calculate metrics globally\n",
        "r_rec = recall_score(y_test, preds, average='micro') # Calculate metrics globally\n",
        "print(r_acc)\n",
        "print(r_f1)\n",
        "print(r_prec)\n",
        "print(r_rec)\n",
        "#\n",
        "\n",
        "decision_tree = DecisionTreeClassifier(max_depth = 5, min_samples_split=2, splitter='best')\n",
        "decision_tree.fit(X_train, y_train)\n",
        "preds = decision_tree.predict(X_test)\n",
        "d_acc = accuracy_score(y_test, preds)\n",
        "d_f1 = f1_score(y_test, preds, average=None) # for non binary classification\n",
        "d_prec = precision_score(y_test, preds, average='micro') # Calculate metrics globally\n",
        "d_rec = recall_score(y_test, preds, average='micro') # Calculate metrics globally\n",
        "print(d_acc)\n",
        "print(d_f1)\n",
        "print(d_prec)\n",
        "print(d_rec)\n",
        "\n",
        "#DropNan values from X\n",
        "k_neighbors = KNeighborsClassifier(n_neighbors=5, metric='euclidean', weights='uniform')\n",
        "k_neighbors.fit(X_train_scaled, y_train)\n",
        "preds = k_neighbors.predict(X_test_scaled)\n",
        "k_acc = accuracy_score(y_test, preds)\n",
        "k_f1 = f1_score(y_test, preds, average=None) # for non binary classification\n",
        "k_prec = precision_score(y_test, preds, average='micro') # Calculate metrics globally\n",
        "k_rec = recall_score(y_test, preds, average='micro') # Calculate metrics globally\n",
        "print(k_acc)\n",
        "print(k_f1)\n",
        "print(k_prec)\n",
        "print(k_rec)"
      ]
    },
    {
      "cell_type": "code",
      "execution_count": 78,
      "metadata": {
        "colab": {
          "base_uri": "https://localhost:8080/",
          "height": 487
        },
        "id": "m-QqVQNst7ep",
        "outputId": "9de29cc6-3e0b-408f-b173-fa4af7df5a57"
      },
      "outputs": [
        {
          "output_type": "display_data",
          "data": {
            "text/plain": [
              "<Figure size 640x480 with 1 Axes>"
            ],
            "image/png": "[encoded data removed]"
          },
          "metadata": {}
        }
      ],
      "source": [
        "#plot\n",
        "import matplotlib.pyplot as plt\n",
        "import numpy as np\n",
        "\n",
        "# Define the models and their metrics\n",
        "models = ['Decision Tree', 'Random Forest', 'K Nearest Neighbors']\n",
        "metrics = ['Accuracy', 'Recall', 'Precision']\n",
        "\n",
        "# Example metric values for each model\n",
        "model_1_scores = [d_acc, d_rec, d_prec]\n",
        "model_2_scores = [r_acc, r_rec, r_prec]\n",
        "model_3_scores = [k_acc, k_rec, k_prec]\n",
        "\n",
        "# Create a bar plot\n",
        "x = np.arange(len(metrics))  # the label locations\n",
        "width = 0.25  # the width of the bars\n",
        "\n",
        "fig, ax = plt.subplots()\n",
        "bars1 = ax.bar(x - width, model_1_scores, width, label='Decision Tree')\n",
        "bars2 = ax.bar(x, model_2_scores, width, label='Random Forest')\n",
        "bars3 = ax.bar(x + width, model_3_scores, width, label='K Nearest Neighbors')\n",
        "\n",
        "# Add some text for labels, title and custom x-axis tick labels, etc.\n",
        "ax.set_xlabel('Metrics')\n",
        "ax.set_ylabel('Scores')\n",
        "ax.set_title('Model Performance Comparison')\n",
        "ax.set_xticks(x)\n",
        "ax.set_xticklabels(metrics)\n",
        "ax.legend()\n",
        "\n",
        "fig.tight_layout()\n",
        "\n",
        "plt.show()\n"
      ]
    },
    {
      "cell_type": "code",
      "execution_count": 73,
      "metadata": {
        "colab": {
          "base_uri": "https://localhost:8080/",
          "height": 0
        },
        "id": "soB-6OvIt7ep",
        "outputId": "cf71031c-e062-4b5b-933d-91a81eb0b94c"
      },
      "outputs": [
        {
          "output_type": "stream",
          "name": "stdout",
          "text": [
            "Fitting 5 folds for each of 252 candidates, totalling 1260 fits\n",
            "Best parameters found for Decision Tree: {'max_depth': 9, 'min_samples_split': 16, 'splitter': 'best'}\n",
            "Fitting 5 folds for each of 112 candidates, totalling 560 fits\n",
            "Best parameters found for RandomForest Tree: {'max_depth': 8, 'n_estimators': 51, 'random_state': 75}\n",
            "Fitting 5 folds for each of 56 candidates, totalling 280 fits\n",
            "Best parameters found for KNeighbors: {'metric': 'manhattan', 'n_neighbors': 14, 'weights': 'uniform'}\n"
          ]
        }
      ],
      "source": [
        "#Accuracy and performance metrics are not the best. this is likely due to trying to categorize\n",
        "#stars also under an 'other' category as well.\n",
        "\n",
        "#Try a grid search, retrain to see if the accuracy improves.\n",
        "#DecisionTree\n",
        "from sklearn.model_selection import GridSearchCV\n",
        "\n",
        "#perform a grid search for each algorithm to find the optimal hyper paramters\n",
        "grid_search = GridSearchCV(estimator=DecisionTreeClassifier(), param_grid={\n",
        "    'max_depth': list(range(1, 15, 1)),\n",
        "    'min_samples_split': list(range(2, 20, 2)),\n",
        "    'splitter': [\"best\", \"random\"]\n",
        "}, cv=5, verbose=1, error_score='raise')\n",
        "\n",
        "        # Fit GridSearchCV with the training data.\n",
        "grid_search.fit(X_train, y_train)\n",
        "\n",
        "        # Print the best parameters and best score found by GridSearchCV.\n",
        "print(f\"Best parameters found for Decision Tree: {grid_search.best_params_}\")\n",
        "#RandomForest\n",
        "grid_search = GridSearchCV(estimator=RandomForestClassifier(), param_grid={\n",
        "    'n_estimators': list(range(1, 100, 50)),\n",
        "    'max_depth': list(range(1, 15, 1)),\n",
        "    'random_state': list(range(0, 100, 25))\n",
        "}, cv=5, verbose=1, error_score='raise')\n",
        "\n",
        "# Fit GridSearchCV with the training data.\n",
        "grid_search.fit(X_train, y_train)\n",
        "\n",
        "        # Print the best parameters and best score found by GridSearchCV.\n",
        "print(f\"Best parameters found for RandomForest Tree: {grid_search.best_params_}\")\n",
        "#KNearest\n",
        "grid_search = GridSearchCV(estimator=KNeighborsClassifier(), param_grid={\n",
        "    'n_neighbors': list(range(1, 15, 1)),\n",
        "    'weights': ['uniform', 'distance'],\n",
        "    'metric': ['euclidean', 'manhattan']\n",
        "}, cv=5, verbose=1, error_score='raise')\n",
        "\n",
        "        # Fit GridSearchCV with the training data.\n",
        "grid_search.fit(X_train, y_train)\n",
        "\n",
        "        # Print the best parameters and best score found by GridSearchCV.\n",
        "print(f\"Best parameters found for KNeighbors: {grid_search.best_params_}\")\n"
      ]
    },
    {
      "cell_type": "code",
      "execution_count": 80,
      "metadata": {
        "colab": {
          "base_uri": "https://localhost:8080/",
          "height": 0
        },
        "id": "zyiz8Airt7eq",
        "outputId": "49f01922-122b-4bf9-b87e-8e73455473bb"
      },
      "outputs": [
        {
          "output_type": "stream",
          "name": "stdout",
          "text": [
            "0.6275292684577384\n",
            "[0.75041111 0.66684597 0.38824792]\n",
            "0.6275292684577384\n",
            "0.6275292684577384\n",
            "0.6183257765446302\n",
            "[0.74459035 0.65660309 0.38530676]\n",
            "0.6183257765446302\n",
            "0.6183257765446302\n",
            "0.6093253028354876\n",
            "[0.7343102  0.64158305 0.39476005]\n",
            "0.6093253028354876\n",
            "0.6093253028354876\n"
          ]
        }
      ],
      "source": [
        "# Try to refit with the optimal hyperparameters\n",
        "#try random forest - get accuracy\n",
        "from sklearn.metrics import accuracy_score, precision_score, f1_score, recall_score\n",
        "\n",
        "\n",
        "random_forest = RandomForestClassifier(max_depth = 9, n_estimators=51, random_state=75)\n",
        "random_forest.fit(X_train, y_train)\n",
        "preds = random_forest.predict(X_test)\n",
        "r_acc = accuracy_score(y_test, preds)\n",
        "r_f1 = f1_score(y_test, preds, average=None) # for non binary classification\n",
        "r_prec = precision_score(y_test, preds, average='micro') # Calculate metrics globally\n",
        "r_rec = recall_score(y_test, preds, average='micro') # Calculate metrics globally\n",
        "print(r_acc)\n",
        "print(r_f1)\n",
        "print(r_prec)\n",
        "print(r_rec)\n",
        "\n",
        "decision_tree = DecisionTreeClassifier(max_depth = 9, min_samples_split=16, splitter='best')\n",
        "decision_tree.fit(X_train, y_train)\n",
        "preds = decision_tree.predict(X_test)\n",
        "d_acc = accuracy_score(y_test, preds)\n",
        "d_f1 = f1_score(y_test, preds, average=None) # for non binary classification\n",
        "d_prec = precision_score(y_test, preds, average='micro') # Calculate metrics globally\n",
        "d_rec = recall_score(y_test, preds, average='micro') # Calculate metrics globally\n",
        "print(d_acc)\n",
        "print(d_f1)\n",
        "print(d_prec)\n",
        "print(d_rec)\n",
        "\n",
        "#DropNan values from X\n",
        "k_neighbors = KNeighborsClassifier(n_neighbors=14, metric='manhattan', weights='uniform')\n",
        "k_neighbors.fit(X_train_scaled, y_train)\n",
        "preds = k_neighbors.predict(X_test_scaled)\n",
        "k_acc = accuracy_score(y_test, preds)\n",
        "k_f1 = f1_score(y_test, preds, average=None) # for non binary classification\n",
        "k_prec = precision_score(y_test, preds, average='micro') # Calculate metrics globally\n",
        "k_rec = recall_score(y_test, preds, average='micro') # Calculate metrics globally\n",
        "print(k_acc)\n",
        "print(k_f1)\n",
        "print(k_prec)\n",
        "print(k_rec)"
      ]
    },
    {
      "cell_type": "code",
      "execution_count": 81,
      "metadata": {
        "colab": {
          "base_uri": "https://localhost:8080/",
          "height": 487
        },
        "id": "DNvF-buct7eq",
        "outputId": "74ec7482-2f3c-4c35-aeb0-28aceb9db8d4"
      },
      "outputs": [
        {
          "output_type": "display_data",
          "data": {
            "text/plain": [
              "<Figure size 640x480 with 1 Axes>"
            ],
            "image/png": "[encoded data removed]"
          },
          "metadata": {}
        }
      ],
      "source": [
        "#plot\n",
        "import matplotlib.pyplot as plt\n",
        "import numpy as np\n",
        "\n",
        "# Define the models and their metrics\n",
        "models = ['Decision Tree', 'Random Forest', 'K Nearest Neighbors']\n",
        "metrics = ['Accuracy', 'Recall', 'Precision']\n",
        "\n",
        "# Example metric values for each model\n",
        "model_1_scores = [d_acc, d_rec, d_prec]\n",
        "model_2_scores = [r_acc, r_rec, r_prec]\n",
        "model_3_scores = [k_acc, k_rec, k_prec]\n",
        "\n",
        "# Create a bar plot\n",
        "x = np.arange(len(metrics))  # the label locations\n",
        "width = 0.25  # the width of the bars\n",
        "\n",
        "fig, ax = plt.subplots()\n",
        "bars1 = ax.bar(x - width, model_1_scores, width, label='Decision Tree')\n",
        "bars2 = ax.bar(x, model_2_scores, width, label='Random Forest')\n",
        "bars3 = ax.bar(x + width, model_3_scores, width, label='K Nearest Neighbors')\n",
        "\n",
        "# Add some text for labels, title and custom x-axis tick labels, etc.\n",
        "ax.set_xlabel('Metrics')\n",
        "ax.set_ylabel('Scores')\n",
        "ax.set_title('Model Performance Comparison')\n",
        "ax.set_xticks(x)\n",
        "ax.set_xticklabels(metrics)\n",
        "ax.legend()\n",
        "\n",
        "fig.tight_layout()\n",
        "\n",
        "plt.show()\n"
      ]
    },
    {
      "cell_type": "code",
      "execution_count": null,
      "metadata": {
        "id": "ZBtwyY6mt7eq"
      },
      "outputs": [],
      "source": [
        "#still below goal of 80% accuracy..."
      ]
    },
    {
      "cell_type": "markdown",
      "metadata": {
        "id": "aSwOkEcat7eq"
      },
      "source": []
    },
    {
      "cell_type": "code",
      "execution_count": 82,
      "metadata": {
        "id": "xELF5x3Zt7er"
      },
      "outputs": [],
      "source": [
        "# Try a 2 star classification - Dwarf and Giant. the 3 classes may be too much for these\n",
        "# classification models. there is no distinct pattern for the 3rd class of 'other'. Lets\n",
        "# remove and see if we improve accuracy\n",
        "df = df[(df['Target'] == 1) | (df['Target'] == 0)]\n"
      ]
    },
    {
      "cell_type": "code",
      "execution_count": 83,
      "metadata": {
        "id": "jX6ywjnbt7er"
      },
      "outputs": [],
      "source": [
        "X = df[['Vmag', 'Plx', 'B-V', 'e_Plx', 'B-V', 'Abs_Mag']]\n",
        "X = X.values\n",
        "Y = df[['Target']]\n",
        "Y = Y.values\n",
        "Y = Y.flatten().astype('int')"
      ]
    },
    {
      "cell_type": "code",
      "execution_count": 84,
      "metadata": {
        "id": "B4KCYHhqt7er"
      },
      "outputs": [],
      "source": [
        "#Split into test and training set.\n",
        "X_train, X_test, y_train, y_test = train_test_split(X, Y, test_size = 0.25, random_state = 0)\n",
        "#standard scale for KNeighbors - this algorithm is sensitive to scaling.\n",
        "scaler = StandardScaler()\n",
        "scaler.fit(X_train)\n",
        "X_train_scaled = scaler.transform(X_train)\n",
        "X_test_scaled = scaler.transform(X_test)"
      ]
    },
    {
      "cell_type": "code",
      "execution_count": 85,
      "metadata": {
        "colab": {
          "base_uri": "https://localhost:8080/",
          "height": 1000
        },
        "id": "ndMlY7Jrt7er",
        "outputId": "cbf4368d-7928-4cd1-a6d3-2cb0e77417e1"
      },
      "outputs": [
        {
          "output_type": "stream",
          "name": "stdout",
          "text": [
            "0.8849817592217268\n",
            "0.8860098423219844\n",
            "0.860011698186781\n",
            "0.9136288318144159\n"
          ]
        },
        {
          "output_type": "display_data",
          "data": {
            "text/plain": [
              "<Figure size 640x480 with 2 Axes>"
            ],
            "image/png": "[encoded data removed]"
          },
          "metadata": {}
        },
        {
          "output_type": "stream",
          "name": "stdout",
          "text": [
            "0.6183257765446302\n",
            "0.8807266194230962\n",
            "0.8499325756116355\n",
            "0.9138359569179785\n",
            "0.8715038508309688\n",
            "0.8701085843064945\n",
            "0.8607620591811918\n",
            "0.8796603148301574\n"
          ]
        },
        {
          "output_type": "execute_result",
          "data": {
            "text/plain": [
              "<sklearn.metrics._plot.confusion_matrix.ConfusionMatrixDisplay at 0x7cae653eed10>"
            ]
          },
          "metadata": {},
          "execution_count": 85
        },
        {
          "output_type": "display_data",
          "data": {
            "text/plain": [
              "<Figure size 640x480 with 2 Axes>"
            ],
            "image/png": "[encoded data removed]"
          },
          "metadata": {}
        },
        {
          "output_type": "display_data",
          "data": {
            "text/plain": [
              "<Figure size 640x480 with 2 Axes>"
            ],
            "image/png": "[encoded data removed]"
          },
          "metadata": {}
        }
      ],
      "source": [
        "#try random forest - get accuracy\n",
        "from sklearn.metrics import accuracy_score, precision_score, f1_score, recall_score\n",
        "from sklearn.metrics import confusion_matrix, ConfusionMatrixDisplay\n",
        "\n",
        "\n",
        "random_forest = RandomForestClassifier(max_depth = 5, n_estimators=100, random_state=50)\n",
        "random_forest.fit(X_train, y_train)\n",
        "preds = random_forest.predict(X_test)\n",
        "r_acc = accuracy_score(y_test, preds)\n",
        "r_f1 = f1_score(y_test, preds, average='binary') # Calculate metrics globally\n",
        "r_prec = precision_score(y_test, preds, average='binary') # Calculate metrics globally\n",
        "r_rec = recall_score(y_test, preds, average='binary') # Calculate metrics globally\n",
        "print(r_acc)\n",
        "print(r_f1)\n",
        "print(r_prec)\n",
        "print(r_rec)\n",
        "\n",
        "cm = confusion_matrix(y_test, preds)\n",
        "# Plot the confusion matrix\n",
        "disp = ConfusionMatrixDisplay(confusion_matrix=cm)\n",
        "disp.plot(cmap=plt.cm.Blues)\n",
        "\n",
        "# Customize the plot\n",
        "plt.title('Confusion Matrix')\n",
        "plt.show()\n",
        "\n",
        "decision_tree = DecisionTreeClassifier(max_depth = 5, min_samples_split=2, splitter='best')\n",
        "decision_tree.fit(X_train, y_train)\n",
        "preds = decision_tree.predict(X_test)\n",
        "d_f1 = f1_score(y_test, preds, average='binary') # binary\n",
        "d_prec = precision_score(y_test, preds, average='binary') # binary\n",
        "d_rec = recall_score(y_test, preds, average='binary') # binary\n",
        "print(d_acc)\n",
        "print(d_f1)\n",
        "print(d_prec)\n",
        "print(d_rec)\n",
        "\n",
        "cm = confusion_matrix(y_test, preds)\n",
        "# Plot the confusion matrix\n",
        "disp = ConfusionMatrixDisplay(confusion_matrix=cm)\n",
        "disp.plot(cmap=plt.cm.Blues)\n",
        "\n",
        "#DropNan values from X\n",
        "k_neighbors = KNeighborsClassifier(n_neighbors=5, metric='euclidean', weights='uniform')\n",
        "k_neighbors.fit(X_train_scaled, y_train)\n",
        "preds = k_neighbors.predict(X_test_scaled)\n",
        "k_acc = accuracy_score(y_test, preds)\n",
        "k_f1 = f1_score(y_test, preds, average='binary') # binary\n",
        "k_prec = precision_score(y_test, preds, average='binary') # binary\n",
        "k_rec = recall_score(y_test, preds, average='binary') # binary\n",
        "print(k_acc)\n",
        "print(k_f1)\n",
        "print(k_prec)\n",
        "print(k_rec)\n",
        "\n",
        "cm = confusion_matrix(y_test, preds)\n",
        "# Plot the confusion matrix\n",
        "disp = ConfusionMatrixDisplay(confusion_matrix=cm)\n",
        "disp.plot(cmap=plt.cm.Blues)"
      ]
    },
    {
      "cell_type": "code",
      "execution_count": 86,
      "metadata": {
        "colab": {
          "base_uri": "https://localhost:8080/",
          "height": 487
        },
        "id": "LkzjbzTjt7es",
        "outputId": "ff459fe9-0734-422d-b020-880c8719443b"
      },
      "outputs": [
        {
          "output_type": "display_data",
          "data": {
            "text/plain": [
              "<Figure size 640x480 with 1 Axes>"
            ],
            "image/png": "[encoded data removed]"
          },
          "metadata": {}
        }
      ],
      "source": [
        "#plot\n",
        "import matplotlib.pyplot as plt\n",
        "import numpy as np\n",
        "\n",
        "# Define the models and their metrics\n",
        "models = ['Decision Tree', 'Random Forest', 'K Nearest Neighbors']\n",
        "metrics = ['Accuracy', 'Recall', 'Precision']\n",
        "\n",
        "# Example metric values for each model\n",
        "model_1_scores = [d_acc, d_rec, d_prec]\n",
        "model_2_scores = [r_acc, r_rec, r_prec]\n",
        "model_3_scores = [k_acc, k_rec, k_prec]\n",
        "\n",
        "# Create a bar plot\n",
        "x = np.arange(len(metrics))  # the label locations\n",
        "width = 0.25  # the width of the bars\n",
        "\n",
        "fig, ax = plt.subplots()\n",
        "bars1 = ax.bar(x - width, model_1_scores, width, label='Decision Tree')\n",
        "bars2 = ax.bar(x, model_2_scores, width, label='Random Forest')\n",
        "bars3 = ax.bar(x + width, model_3_scores, width, label='K Nearest Neighbors')\n",
        "\n",
        "# Add some text for labels, title and custom x-axis tick labels, etc.\n",
        "ax.set_xlabel('Metrics')\n",
        "ax.set_ylabel('Scores')\n",
        "ax.set_title('Model Performance Comparison')\n",
        "ax.set_xticks(x)\n",
        "ax.set_xticklabels(metrics)\n",
        "ax.legend()\n",
        "\n",
        "fig.tight_layout()\n",
        "\n",
        "plt.show()\n"
      ]
    },
    {
      "cell_type": "code",
      "execution_count": 87,
      "metadata": {
        "colab": {
          "base_uri": "https://localhost:8080/",
          "height": 0
        },
        "id": "xSzYXwNOt7es",
        "outputId": "8157aeda-f81e-48f2-de24-0ed4eb4e4322"
      },
      "outputs": [
        {
          "output_type": "stream",
          "name": "stdout",
          "text": [
            "Fitting 5 folds for each of 252 candidates, totalling 1260 fits\n",
            "Best parameters found for Decision Tree: {'max_depth': 7, 'min_samples_split': 18, 'splitter': 'best'}\n",
            "Fitting 5 folds for each of 112 candidates, totalling 560 fits\n",
            "Best parameters found for RandomForest Tree: {'max_depth': 8, 'n_estimators': 51, 'random_state': 50}\n",
            "Fitting 5 folds for each of 56 candidates, totalling 280 fits\n",
            "Best parameters found for KNeighbors: {'metric': 'manhattan', 'n_neighbors': 11, 'weights': 'uniform'}\n"
          ]
        }
      ],
      "source": [
        "#MUCH higher accuracy.. (not necessarily for decision tree..) and achieving goal!\n",
        "\n",
        "#Introducing a class for 'Other' with varying features with no distinct pattern is confirmed\n",
        "# to be reducing accuracy for the model. Perform a grid search for this new binary classification.\n",
        "\n",
        "\n",
        "#Accuracy and performance metrics are not the best. this is likely due to trying to categorize\n",
        "#stars also under an 'other' category as well.\n",
        "\n",
        "#Try a grid search, retrain to see if the accuracy improves.\n",
        "#DecisionTree\n",
        "from sklearn.model_selection import GridSearchCV\n",
        "\n",
        "#perform a grid search for each algorithm to find the optimal hyper paramters\n",
        "grid_search = GridSearchCV(estimator=DecisionTreeClassifier(), param_grid={\n",
        "    'max_depth': list(range(1, 15, 1)),\n",
        "    'min_samples_split': list(range(2, 20, 2)),\n",
        "    'splitter': [\"best\", \"random\"]\n",
        "}, cv=5, verbose=1, error_score='raise')\n",
        "\n",
        "        # Fit GridSearchCV with the training data.\n",
        "grid_search.fit(X_train, y_train)\n",
        "\n",
        "        # Print the best parameters and best score found by GridSearchCV.\n",
        "print(f\"Best parameters found for Decision Tree: {grid_search.best_params_}\")\n",
        "#RandomForest\n",
        "grid_search = GridSearchCV(estimator=RandomForestClassifier(), param_grid={\n",
        "    'n_estimators': list(range(1, 100, 50)),\n",
        "    'max_depth': list(range(1, 15, 1)),\n",
        "    'random_state': list(range(0, 100, 25))\n",
        "}, cv=5, verbose=1, error_score='raise')\n",
        "\n",
        "# Fit GridSearchCV with the training data.\n",
        "grid_search.fit(X_train, y_train)\n",
        "\n",
        "        # Print the best parameters and best score found by GridSearchCV.\n",
        "print(f\"Best parameters found for RandomForest Tree: {grid_search.best_params_}\")\n",
        "#KNearest\n",
        "grid_search = GridSearchCV(estimator=KNeighborsClassifier(), param_grid={\n",
        "    'n_neighbors': list(range(1, 15, 1)),\n",
        "    'weights': ['uniform', 'distance'],\n",
        "    'metric': ['euclidean', 'manhattan']\n",
        "}, cv=5, verbose=1, error_score='raise')\n",
        "\n",
        "        # Fit GridSearchCV with the training data.\n",
        "grid_search.fit(X_train, y_train)\n",
        "\n",
        "        # Print the best parameters and best score found by GridSearchCV.\n",
        "print(f\"Best parameters found for KNeighbors: {grid_search.best_params_}\")\n"
      ]
    },
    {
      "cell_type": "code",
      "execution_count": 90,
      "metadata": {
        "colab": {
          "base_uri": "https://localhost:8080/",
          "height": 1000
        },
        "id": "I3esd6fzt7es",
        "outputId": "b64be213-b39d-4522-fa60-476a06eb665b"
      },
      "outputs": [
        {
          "output_type": "stream",
          "name": "stdout",
          "text": [
            "0.8849817592217268\n",
            "0.8857574232511324\n",
            "0.8615625611905228\n",
            "0.9113504556752279\n"
          ]
        },
        {
          "output_type": "display_data",
          "data": {
            "text/plain": [
              "<Figure size 640x480 with 2 Axes>"
            ],
            "image/png": "[encoded data removed]"
          },
          "metadata": {}
        },
        {
          "output_type": "stream",
          "name": "stdout",
          "text": [
            "0.876773408998784\n",
            "0.8775674587192912\n",
            "0.8538401253918495\n",
            "0.9026512013256006\n",
            "0.880624239967572\n",
            "0.8798939641109298\n",
            "0.8664658634538153\n",
            "0.8937448218724109\n"
          ]
        },
        {
          "output_type": "execute_result",
          "data": {
            "text/plain": [
              "<sklearn.metrics._plot.confusion_matrix.ConfusionMatrixDisplay at 0x7caeb0959780>"
            ]
          },
          "metadata": {},
          "execution_count": 90
        },
        {
          "output_type": "display_data",
          "data": {
            "text/plain": [
              "<Figure size 640x480 with 2 Axes>"
            ],
            "image/png": "[encoded data removed]"
          },
          "metadata": {}
        },
        {
          "output_type": "display_data",
          "data": {
            "text/plain": [
              "<Figure size 640x480 with 2 Axes>"
            ],
            "image/png": "[encoded data removed]"
          },
          "metadata": {}
        }
      ],
      "source": [
        "#try random forest - get accuracy\n",
        "from sklearn.metrics import accuracy_score, precision_score, f1_score, recall_score\n",
        "from sklearn.metrics import confusion_matrix, ConfusionMatrixDisplay\n",
        "\n",
        "\n",
        "random_forest = RandomForestClassifier(max_depth = 8, n_estimators=51, random_state=50)\n",
        "random_forest.fit(X_train, y_train)\n",
        "preds = random_forest.predict(X_test)\n",
        "r_acc = accuracy_score(y_test, preds)\n",
        "r_f1 = f1_score(y_test, preds, average='binary') # Calculate metrics globally\n",
        "r_prec = precision_score(y_test, preds, average='binary') # Calculate metrics globally\n",
        "r_rec = recall_score(y_test, preds, average='binary') # Calculate metrics globally\n",
        "print(r_acc)\n",
        "print(r_f1)\n",
        "print(r_prec)\n",
        "print(r_rec)\n",
        "\n",
        "cm = confusion_matrix(y_test, preds)\n",
        "# Plot the confusion matrix\n",
        "disp = ConfusionMatrixDisplay(confusion_matrix=cm)\n",
        "disp.plot(cmap=plt.cm.Blues)\n",
        "\n",
        "# Customize the plot\n",
        "plt.title('Confusion Matrix')\n",
        "plt.show()\n",
        "\n",
        "decision_tree = DecisionTreeClassifier(max_depth = 7, min_samples_split=18, splitter='best')\n",
        "decision_tree.fit(X_train, y_train)\n",
        "preds = decision_tree.predict(X_test)\n",
        "d_acc = accuracy_score(y_test, preds)\n",
        "d_f1 = f1_score(y_test, preds, average='binary') # binary\n",
        "d_prec = precision_score(y_test, preds, average='binary') # binary\n",
        "d_rec = recall_score(y_test, preds, average='binary') # binary\n",
        "print(d_acc)\n",
        "print(d_f1)\n",
        "print(d_prec)\n",
        "print(d_rec)\n",
        "\n",
        "cm = confusion_matrix(y_test, preds)\n",
        "# Plot the confusion matrix\n",
        "disp = ConfusionMatrixDisplay(confusion_matrix=cm)\n",
        "disp.plot(cmap=plt.cm.Blues)\n",
        "\n",
        "#DropNan values from X\n",
        "k_neighbors = KNeighborsClassifier(n_neighbors=11, metric='manhattan', weights='uniform')\n",
        "k_neighbors.fit(X_train_scaled, y_train)\n",
        "preds = k_neighbors.predict(X_test_scaled)\n",
        "k_acc = accuracy_score(y_test, preds)\n",
        "k_f1 = f1_score(y_test, preds, average='binary') # binary\n",
        "k_prec = precision_score(y_test, preds, average='binary') # binary\n",
        "k_rec = recall_score(y_test, preds, average='binary') # binary\n",
        "print(k_acc)\n",
        "print(k_f1)\n",
        "print(k_prec)\n",
        "print(k_rec)\n",
        "\n",
        "cm = confusion_matrix(y_test, preds)\n",
        "# Plot the confusion matrix\n",
        "disp = ConfusionMatrixDisplay(confusion_matrix=cm)\n",
        "disp.plot(cmap=plt.cm.Blues)"
      ]
    },
    {
      "cell_type": "code",
      "execution_count": 89,
      "metadata": {
        "colab": {
          "base_uri": "https://localhost:8080/",
          "height": 487
        },
        "id": "n2pSRmiAt7es",
        "outputId": "356d4fd7-64df-4709-9f16-be0625b97810"
      },
      "outputs": [
        {
          "output_type": "display_data",
          "data": {
            "text/plain": [
              "<Figure size 640x480 with 1 Axes>"
            ],
            "image/png": "[encoded data removed]"
          },
          "metadata": {}
        }
      ],
      "source": [
        "#plot\n",
        "import matplotlib.pyplot as plt\n",
        "import matplotlib.pyplot as plt\n",
        "import numpy as np\n",
        "\n",
        "# Define the models and their metrics\n",
        "models = ['Decision Tree', 'Random Forest', 'K Nearest Neighbors']\n",
        "metrics = ['Accuracy', 'Recall', 'Precision']\n",
        "\n",
        "# Example metric values for each model\n",
        "model_1_scores = [d_acc, d_rec, d_prec]\n",
        "model_2_scores = [r_acc, r_rec, r_prec]\n",
        "model_3_scores = [k_acc, k_rec, k_prec]\n",
        "\n",
        "# Create a bar plot\n",
        "x = np.arange(len(metrics))  # the label locations\n",
        "width = 0.25  # the width of the bars\n",
        "\n",
        "fig, ax = plt.subplots()\n",
        "bars1 = ax.bar(x - width, model_1_scores, width, label='Decision Tree')\n",
        "bars2 = ax.bar(x, model_2_scores, width, label='Random Forest')\n",
        "bars3 = ax.bar(x + width, model_3_scores, width, label='K Nearest Neighbors')\n",
        "\n",
        "# Add some text for labels, title and custom x-axis tick labels, etc.\n",
        "ax.set_xlabel('Metrics')\n",
        "ax.set_ylabel('Scores')\n",
        "ax.set_title('Model Performance Comparison')\n",
        "ax.set_xticks(x)\n",
        "ax.set_xticklabels(metrics)\n",
        "ax.legend()\n",
        "\n",
        "fig.tight_layout()\n",
        "\n",
        "plt.show()\n"
      ]
    }
  ],
  "metadata": {
    "kernelspec": {
      "display_name": "Python 3",
      "language": "python",
      "name": "python3"
    },
    "language_info": {
      "codemirror_mode": {
        "name": "ipython",
        "version": 3
      },
      "file_extension": ".py",
      "mimetype": "text/x-python",
      "name": "python",
      "nbconvert_exporter": "python",
      "pygments_lexer": "ipython3",
      "version": "3.10.11"
    },
    "colab": {
      "provenance": []
    }
  },
  "nbformat": 4,
  "nbformat_minor": 0
}